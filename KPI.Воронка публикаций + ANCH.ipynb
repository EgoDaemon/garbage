{
 "cells": [
  {
   "cell_type": "markdown",
   "id": "cd7f1a67",
   "metadata": {},
   "source": [
    "# Загрузка данных PAYKEEPER to ClickHouse"
   ]
  },
  {
   "cell_type": "markdown",
   "id": "c33461be",
   "metadata": {},
   "source": [
    "# ТЕСТИРУЕМ. АККУРАТНО С ДАТАМИ СТАРТ-ЭНД"
   ]
  },
  {
   "cell_type": "markdown",
   "id": "dfb6a9e3",
   "metadata": {},
   "source": [
    "# дозапись"
   ]
  },
  {
   "cell_type": "code",
   "execution_count": null,
   "id": "e5472be3",
   "metadata": {
    "ExecuteTime": {
     "end_time": "2023-01-30T10:18:28.760258Z",
     "start_time": "2023-01-30T10:18:26.788289Z"
    }
   },
   "outputs": [],
   "source": [
    "import json\n",
    "import requests\n",
    "import pandas as pd\n",
    "#from ga_connector import ga_connect\n",
    "import datetime\n",
    "from sqlalchemy import create_engine\n",
    "from pandas import DataFrame as df\n",
    "import numpy as np\n",
    "from oauth2client.service_account import ServiceAccountCredentials\n",
    "import gspread\n",
    "from clickhouse_key import ch_key\n",
    "from clickhouse_driver import Client"
   ]
  },
  {
   "cell_type": "code",
   "execution_count": null,
   "id": "8b9c141d",
   "metadata": {
    "ExecuteTime": {
     "end_time": "2023-01-30T10:18:29.547951Z",
     "start_time": "2023-01-30T10:18:29.539956Z"
    }
   },
   "outputs": [],
   "source": [
    "pd.set_option('display.max_columns', None)"
   ]
  },
  {
   "cell_type": "code",
   "execution_count": null,
   "id": "3a625142",
   "metadata": {
    "ExecuteTime": {
     "end_time": "2023-01-30T10:18:30.613985Z",
     "start_time": "2023-01-30T10:18:30.596067Z"
    }
   },
   "outputs": [],
   "source": [
    "client = Client(ch_key['db_host'],\n",
    "               user=ch_key['db_user'],\n",
    "               password=ch_key['db_password'],\n",
    "               verify=False,\n",
    "               database=ch_key['db_name'], settings={'use_numpy': True})"
   ]
  },
  {
   "cell_type": "code",
   "execution_count": null,
   "id": "b0ea09c3",
   "metadata": {
    "ExecuteTime": {
     "end_time": "2023-01-30T10:18:32.134459Z",
     "start_time": "2023-01-30T10:18:32.109857Z"
    }
   },
   "outputs": [],
   "source": [
    "def df(result, columns):\n",
    "    col = []\n",
    "    for i in columns:\n",
    "        col.append(i[0])\n",
    "        df = pd.DataFrame(result,columns=col)\n",
    "    return df    \n",
    "        \n",
    "def date(date):\n",
    "    date  = (datetime.datetime.strptime(date['date'][0],\"%Y-%m-%d\").date()+datetime.timedelta(days=1)) \n",
    "    return date"
   ]
  },
  {
   "cell_type": "code",
   "execution_count": null,
   "id": "efeafd37",
   "metadata": {
    "ExecuteTime": {
     "end_time": "2023-01-30T10:18:34.167096Z",
     "start_time": "2023-01-30T10:18:33.987315Z"
    }
   },
   "outputs": [],
   "source": [
    "result, columns = client.execute('''SELECT CAST(MAX(DATE(dt)) as String) as date \n",
    "FROM external.PAYKEEPER_CUT ''', with_column_types = True)\n",
    "data = df(result, columns)\n",
    "start = date(data)\n",
    "start"
   ]
  },
  {
   "cell_type": "code",
   "execution_count": null,
   "id": "b404464c",
   "metadata": {
    "ExecuteTime": {
     "end_time": "2023-01-30T10:18:35.989232Z",
     "start_time": "2023-01-30T10:18:35.972756Z"
    }
   },
   "outputs": [],
   "source": [
    "end = datetime.datetime.today().date() - datetime.timedelta(days=1)\n",
    "end"
   ]
  },
  {
   "cell_type": "code",
   "execution_count": null,
   "id": "46948abb",
   "metadata": {
    "ExecuteTime": {
     "end_time": "2023-01-30T10:18:38.730067Z",
     "start_time": "2023-01-30T10:18:38.434860Z"
    }
   },
   "outputs": [],
   "source": [
    "url = 'https://m2-vas.server.paykeeper.ru/'\n",
    "q2 = f'info/payments/bydate/?start={start}&end={end}&payment_system_id[]=52&status[]=success&limit=10000'\n",
    "q2 = url+q2\n",
    "\n",
    "token = '' #удалила\n",
    "\n",
    "headers = {\n",
    "        'Authorization':  f'Basic {token}',\n",
    "        \"Content-Type\": \"application/json\"\n",
    "        }\n",
    "\n",
    "x = requests.get(q2, headers= headers)\n",
    "pokupka_data = pd.DataFrame(x.json())\n",
    "pokupka_data.head(3)"
   ]
  },
  {
   "cell_type": "code",
   "execution_count": null,
   "id": "746ce8a2",
   "metadata": {
    "ExecuteTime": {
     "end_time": "2023-01-30T10:18:40.471827Z",
     "start_time": "2023-01-30T10:18:40.457833Z"
    }
   },
   "outputs": [],
   "source": [
    "pokupka_data = pokupka_data[['id','clientid','orderid','pay_amount', 'payment_system_id','status','pending_datetime','obtain_datetime', 'success_datetime']].copy()"
   ]
  },
  {
   "cell_type": "code",
   "execution_count": null,
   "id": "88d47e1c",
   "metadata": {
    "ExecuteTime": {
     "end_time": "2023-01-30T10:18:41.787970Z",
     "start_time": "2023-01-30T10:18:41.769067Z"
    }
   },
   "outputs": [],
   "source": [
    "pokupka_data['payment_system_id'] = 'ВТБ'\n",
    "pokupka_data['status'] = 'Совершён'\n",
    "pokupka_data['pay_amount'] = pokupka_data['pay_amount'].astype(float)\n",
    "p_keeper = pokupka_data.copy()\n",
    "p_keeper['dt'] = p_keeper['obtain_datetime'].apply(lambda x: datetime.datetime.strptime(x[:10], \"%Y-%m-%d\").date())\n",
    "p_keeper['isoweek'] = p_keeper['dt'].apply(lambda x: x.isocalendar()[1])"
   ]
  },
  {
   "cell_type": "code",
   "execution_count": null,
   "id": "2ace84db",
   "metadata": {
    "ExecuteTime": {
     "end_time": "2023-01-30T10:18:43.543824Z",
     "start_time": "2023-01-30T10:18:43.523846Z"
    }
   },
   "outputs": [],
   "source": [
    "import pandas as pd\n",
    "p_keeper['id'] = p_keeper['id'].astype(int)\n",
    "p_keeper['pay_amount'] = p_keeper['pay_amount'].astype(float)\n",
    "p_keeper['isoweek'] = p_keeper['isoweek'].astype(int)\n",
    "\n",
    "p_keeper['clientid'] = p_keeper['clientid'].astype(str)\n",
    "p_keeper['orderid'] = p_keeper['orderid'].astype(str)\n",
    "p_keeper['payment_system_id'] = p_keeper['payment_system_id'].astype(str)\n",
    "p_keeper['status'] = p_keeper['status'].astype(str)\n",
    "p_keeper['dt'] = pd.to_datetime(p_keeper['dt'], format='%Y-%m-%d')"
   ]
  },
  {
   "cell_type": "code",
   "execution_count": null,
   "id": "551338d3",
   "metadata": {
    "ExecuteTime": {
     "end_time": "2023-01-30T10:18:45.050782Z",
     "start_time": "2023-01-30T10:18:45.024812Z"
    }
   },
   "outputs": [],
   "source": [
    "import pandas as pd\n",
    "p_keeper['pending_datetime'] = pd.to_datetime(p_keeper['pending_datetime'], format='%Y-%m-%d')\n",
    "p_keeper['obtain_datetime'] = pd.to_datetime(p_keeper['obtain_datetime'], format='%Y-%m-%d')\n",
    "p_keeper['success_datetime'] = pd.to_datetime(p_keeper['success_datetime'], format='%Y-%m-%d')"
   ]
  },
  {
   "cell_type": "code",
   "execution_count": null,
   "id": "9180bbaf",
   "metadata": {
    "ExecuteTime": {
     "end_time": "2023-01-30T10:18:46.992325Z",
     "start_time": "2023-01-30T10:18:46.972932Z"
    }
   },
   "outputs": [],
   "source": [
    "p_keeper.info()"
   ]
  },
  {
   "cell_type": "code",
   "execution_count": null,
   "id": "1bf952cd",
   "metadata": {},
   "outputs": [],
   "source": [
    "# client.execute('''CREATE TABLE external.PAYKEEPER_CUT(id Int32, clientid String, orderid String, pay_amount Float64, \n",
    "# payment_system_id  String, status String, pending_datetime DateTime64, obtain_datetime DateTime64, success_datetime DateTime64, dt DateTime64, isoweek Int32) ENGINE = MergeTree() ORDER BY (dt, id)'''\n",
    "# )"
   ]
  },
  {
   "cell_type": "code",
   "execution_count": null,
   "id": "7712c866",
   "metadata": {
    "ExecuteTime": {
     "end_time": "2023-01-30T10:18:52.615951Z",
     "start_time": "2023-01-30T10:18:52.354743Z"
    }
   },
   "outputs": [],
   "source": [
    "client.insert_dataframe(\"INSERT INTO external.PAYKEEPER_CUT VALUES\", p_keeper) #VALUES - DO NOT FORGET TO SET"
   ]
  },
  {
   "cell_type": "markdown",
   "id": "d326fbfc",
   "metadata": {},
   "source": [
    "# Загрузка данных ODS_AUTH"
   ]
  },
  {
   "cell_type": "markdown",
   "id": "7aada423",
   "metadata": {},
   "source": [
    "# дозапись"
   ]
  },
  {
   "cell_type": "code",
   "execution_count": null,
   "id": "f76e2b6d",
   "metadata": {
    "ExecuteTime": {
     "end_time": "2023-01-30T10:18:58.877013Z",
     "start_time": "2023-01-30T10:18:58.740800Z"
    }
   },
   "outputs": [],
   "source": [
    "f = open(\"ps_key.txt\", \"r\")\n",
    "postrges_key = f.read()\n",
    "engine = create_engine(postrges_key)"
   ]
  },
  {
   "cell_type": "code",
   "execution_count": null,
   "id": "7bb857f8",
   "metadata": {
    "ExecuteTime": {
     "end_time": "2023-01-30T10:19:00.895128Z",
     "start_time": "2023-01-30T10:19:00.796781Z"
    }
   },
   "outputs": [],
   "source": [
    "result, columns = client.execute('''SELECT CAST(MAX(DATE(date)) as String) as date \n",
    "FROM pg.ODS_AUTH_EVENT_CUT''', with_column_types = True)\n",
    "data = df(result, columns)\n",
    "start = date(data)\n",
    "start"
   ]
  },
  {
   "cell_type": "code",
   "execution_count": null,
   "id": "236bb7ef",
   "metadata": {
    "ExecuteTime": {
     "end_time": "2023-01-30T10:19:22.959751Z",
     "start_time": "2023-01-30T10:19:02.298545Z"
    }
   },
   "outputs": [],
   "source": [
    "q = f'''\n",
    "SELECT\n",
    "user_code as user_id,\n",
    "CAST(role_event_code as TEXT) as role,\n",
    "event_ts as date\n",
    "FROM  \"ODS_AUTH_USER\".\"EVENT\" WHERE event_ts >= '{start}'\n",
    "'''\n",
    "ww = pd.read_sql_query(q, engine)\n",
    "ww.head()"
   ]
  },
  {
   "cell_type": "code",
   "execution_count": null,
   "id": "03ed3ccf",
   "metadata": {
    "ExecuteTime": {
     "end_time": "2023-01-30T10:19:27.758593Z",
     "start_time": "2023-01-30T10:19:27.678020Z"
    }
   },
   "outputs": [],
   "source": [
    "group = ww.groupby(['role'], dropna=False).agg(user_id=('user_id', 'nunique')).reset_index()\n",
    "group"
   ]
  },
  {
   "cell_type": "code",
   "execution_count": null,
   "id": "ccb3d3c1",
   "metadata": {
    "ExecuteTime": {
     "end_time": "2023-01-30T10:19:32.000813Z",
     "start_time": "2023-01-30T10:19:30.604741Z"
    }
   },
   "outputs": [],
   "source": [
    "client.insert_dataframe(\"INSERT INTO pg.ODS_AUTH_EVENT_CUT VALUES\", ww)"
   ]
  },
  {
   "cell_type": "markdown",
   "id": "bbe56a6a",
   "metadata": {},
   "source": [
    "# Cкрипт воронки на основе views в ClickHouse"
   ]
  },
  {
   "cell_type": "code",
   "execution_count": null,
   "id": "8eb56eab",
   "metadata": {
    "ExecuteTime": {
     "end_time": "2023-01-30T10:20:49.404734Z",
     "start_time": "2023-01-30T10:19:34.485285Z"
    }
   },
   "outputs": [],
   "source": [
    "re, columns = client.execute('''\n",
    "\n",
    "WITH PAID AS\n",
    "(select toISOWeek(date) as week,\n",
    "       role,\n",
    "       SUM(paid_users_num)  as paid_users_num,\n",
    "       sum(All_paid) as All_paid,\n",
    "       sum(repeat_paid) as repeat_paid,\n",
    "       sum(all_paid_c) as all_paid_c,\n",
    "       sum(repeat_paid_c) as repeat_paid_c\n",
    "from messnerav.PUBLIC_FUNNEL_PAID_FULL\n",
    "WHERE week >=1\n",
    "AND toISOYear(date) = 2023\n",
    "group by week, role\n",
    "order by week, role),\n",
    "\n",
    "EVENTS AS\n",
    "(select\n",
    "    toISOWeek(date) as week,\n",
    "    role,\n",
    "    sum(page_views) as page_views,\n",
    "    sum(ads) as ads,\n",
    "    sum(pubs) as pubs,\n",
    "    count(distinct all_users) as all_users,\n",
    "    count(distinct page_users) as page_users ,\n",
    "    count(distinct add_users) as add_users ,\n",
    "    count(distinct pbs_users) as pbs_users\n",
    "\n",
    "from messnerav.PUBLICS_FUNNEL_EVENTS_FULL\n",
    "WHERE week >=1\n",
    "AND toISOYear(date) = 2023\n",
    "group by week, role\n",
    "order by week, role)\n",
    "\n",
    "SELECT week, role, page_views, ads, pubs, All_paid, all_paid_c, repeat_paid, repeat_paid_c, \n",
    "all_users, page_users, add_users, pbs_users, paid_users_num\n",
    "\n",
    "\n",
    "FROM EVENTS join PAID USING(week, role)''', with_column_types = True)\n",
    "\n",
    "# datas = df(result, columns)\n",
    "# datas.head(6)"
   ]
  },
  {
   "cell_type": "code",
   "execution_count": null,
   "id": "c0b46815",
   "metadata": {
    "ExecuteTime": {
     "end_time": "2023-01-30T10:20:51.363464Z",
     "start_time": "2023-01-30T10:20:51.313698Z"
    }
   },
   "outputs": [],
   "source": [
    "df_state = pd.DataFrame(re, columns=[\"isoweek\", \"role\", \"page_views\", \"ads\", \"pubs\", \"All_paid\", \"all_paid_c\", \"repeat_paid\", \"repeat_paid_c\", \"all_users\", \"page_users\", \"add_users\", \"pbs_users\", \"paid_users_num\"])\n",
    "df_state.head(15)"
   ]
  },
  {
   "cell_type": "code",
   "execution_count": null,
   "id": "9f3cbaba",
   "metadata": {
    "ExecuteTime": {
     "end_time": "2023-01-30T10:20:53.136469Z",
     "start_time": "2023-01-30T10:20:53.116432Z"
    }
   },
   "outputs": [],
   "source": [
    "df_state.isnull().sum()"
   ]
  },
  {
   "cell_type": "code",
   "execution_count": null,
   "id": "4446ca28",
   "metadata": {
    "ExecuteTime": {
     "end_time": "2023-01-30T10:20:57.950310Z",
     "start_time": "2023-01-30T10:20:57.942329Z"
    }
   },
   "outputs": [],
   "source": [
    "df = df_state.astype(np.int32).copy()"
   ]
  },
  {
   "cell_type": "code",
   "execution_count": null,
   "id": "8f0a92a2",
   "metadata": {
    "ExecuteTime": {
     "end_time": "2023-01-30T10:20:59.503317Z",
     "start_time": "2023-01-30T10:20:59.480184Z"
    }
   },
   "outputs": [],
   "source": [
    "df.head(3)"
   ]
  },
  {
   "cell_type": "code",
   "execution_count": null,
   "id": "1512969f",
   "metadata": {
    "ExecuteTime": {
     "end_time": "2023-01-30T10:21:02.336105Z",
     "start_time": "2023-01-30T10:21:02.315620Z"
    }
   },
   "outputs": [],
   "source": [
    "pols= {\n",
    "3 :'Физик',13 : 'ЧМАК' ,38 : 'Агентство'}\n",
    "rows = [[\n",
    "       'Неделя',\n",
    "       'ISO неделя',\n",
    "       'Роль',\n",
    "       'Просмотры стр. Мои Объявления',\n",
    "       'Добавления объявлений',\n",
    "       'Публикация объявлений',\n",
    "       'Сумма оплат',\n",
    "       'Успешные оплаты',\n",
    "       'Сумма повторных оплат',\n",
    "       'Повторные оплаты',     \n",
    "       'УП Авторизованных  Всего',\n",
    "       'УП на \"Мои объявления\"',\n",
    "       'УП Добавления объявлений',\n",
    "       'УП Публикация объявлений',\n",
    "       'Заплатившие пользователи'\n",
    "       ]]\n",
    "\n",
    "c = 0\n",
    "\n",
    "for i in df.itertuples():    \n",
    "    if i.isoweek == 0:\n",
    "        continue\n",
    "    else:\n",
    "        if c % 3 == 0:\n",
    "            rows.append([\"\"]*len(rows[0]))\n",
    "        ls=list(i)[1:]\n",
    "        week_h = datetime.date.fromisocalendar(2023,int(i.isoweek),1)\n",
    "        del ls[1]\n",
    "        ls.insert(0, str(week_h) +\" - \"+ str(week_h+  datetime.timedelta(days = 6))) \n",
    "        ls.insert(2,str(pols[i.role]))               \n",
    "        rows.append(ls)\n",
    "        c+= 1"
   ]
  },
  {
   "cell_type": "code",
   "execution_count": null,
   "id": "62d8dfd7",
   "metadata": {
    "ExecuteTime": {
     "end_time": "2023-01-30T10:21:05.890691Z",
     "start_time": "2023-01-30T10:21:05.766267Z"
    }
   },
   "outputs": [],
   "source": [
    "import gspread\n",
    "from googleapiclient.discovery import build\n",
    "from oauth2client.service_account import ServiceAccountCredentials\n",
    "\n",
    "SCOPES = ['https://www.googleapis.com/auth/analytics.readonly',\n",
    "             'https://spreadsheets.google.com/feeds',\n",
    "         'https://www.googleapis.com/auth/drive']\n",
    "credentials = ServiceAccountCredentials.from_json_keyfile_name('m2-main-cd9ed0b4e222.json', SCOPES)\n",
    "gc = gspread.authorize(credentials)"
   ]
  },
  {
   "cell_type": "code",
   "execution_count": null,
   "id": "e68a9452",
   "metadata": {
    "ExecuteTime": {
     "end_time": "2023-01-30T10:21:12.641607Z",
     "start_time": "2023-01-30T10:21:09.549823Z"
    }
   },
   "outputs": [],
   "source": [
    "sh = gc.open(\"3. Воронка публикации объявлений\")\n",
    "wk = sh.worksheet('source_2023')\n",
    "wk.update('A1', rows)\n",
    "wk.format(\"1:1\", {'textFormat': {'bold': True}})"
   ]
  },
  {
   "cell_type": "markdown",
   "id": "3cecc2f8",
   "metadata": {},
   "source": [
    "# Publics for ANCH for Mondays (дозапись)"
   ]
  },
  {
   "cell_type": "code",
   "execution_count": null,
   "id": "e67862da",
   "metadata": {
    "ExecuteTime": {
     "end_time": "2023-01-30T10:21:52.249813Z",
     "start_time": "2023-01-30T10:21:52.229069Z"
    }
   },
   "outputs": [],
   "source": [
    "def df(result, columns):\n",
    "    col = []\n",
    "    for i in columns:\n",
    "        col.append(i[0])\n",
    "        df = pd.DataFrame(result,columns=col)\n",
    "    return df \n",
    "\n",
    "def date(date):\n",
    "    date  = (datetime.datetime.strptime(date['date'][0],\"%Y-%m-%d\").date()+datetime.timedelta(days=1)) \n",
    "    return date"
   ]
  },
  {
   "cell_type": "code",
   "execution_count": null,
   "id": "838e5572",
   "metadata": {
    "ExecuteTime": {
     "end_time": "2023-01-30T10:21:53.504046Z",
     "start_time": "2023-01-30T10:21:53.431287Z"
    }
   },
   "outputs": [],
   "source": [
    "result, columns = client.execute('''SELECT MAX(week) as week \n",
    "FROM messnerav.ANCH_PUBS_PAID_CR ''', with_column_types = True)\n",
    "data = df(result, columns)\n",
    "data"
   ]
  },
  {
   "cell_type": "code",
   "execution_count": null,
   "id": "c2548007",
   "metadata": {
    "ExecuteTime": {
     "end_time": "2023-01-30T10:21:55.253092Z",
     "start_time": "2023-01-30T10:21:55.231726Z"
    }
   },
   "outputs": [],
   "source": [
    "# week = data.squeeze() + 1\n",
    "week = 2"
   ]
  },
  {
   "cell_type": "code",
   "execution_count": null,
   "id": "9cdcc0e6",
   "metadata": {
    "ExecuteTime": {
     "end_time": "2023-01-30T10:23:03.942410Z",
     "start_time": "2023-01-30T10:21:56.743354Z"
    }
   },
   "outputs": [],
   "source": [
    "re, columns = client.execute(f'''\n",
    "\n",
    "WITH PAID AS\n",
    "         (SELECT CAST(toISOYear(date), 'Int') AS year,\n",
    "                 toISOWeek(date)              AS week,\n",
    "                 sum(paid_users_num)          AS paid_users_num\n",
    "          FROM messnerav.PUBLIC_FUNNEL_PAID_FULL\n",
    "          WHERE ((date >= '2023-01-02') AND (toISOWeek(date) = {week}))\n",
    "            AND (role IN (13, 7, 37, 38))\n",
    "          GROUP BY year,\n",
    "                   week\n",
    "          ORDER BY year ASC,\n",
    "                   week ASC),\n",
    "     EVENTS AS\n",
    "         (SELECT CAST(toISOYear(date), 'Int') AS year,\n",
    "                 toISOWeek(date)              AS week,\n",
    "                 countDistinct(pbs_users)     AS pbs_users\n",
    "          FROM messnerav.PUBLICS_FUNNEL_EVENTS_FULL\n",
    "          WHERE ((date >= '2023-01-02') AND (toISOWeek(date) = {week}))\n",
    "            AND (role IN (13, 7, 37, 38))\n",
    "          GROUP BY year,\n",
    "                   week\n",
    "          ORDER BY year ASC,\n",
    "                   week ASC)\n",
    "SELECT year,\n",
    "       week,\n",
    "       coalesce(pbs_users, 0)               AS pbs_users,\n",
    "       coalesce(paid_users_num, 0)          AS paid_users_num,\n",
    "       round(paid_users_num / pbs_users, 3) AS CR\n",
    "FROM EVENTS\n",
    "         LEFT JOIN PAID USING (year, week);\n",
    "\n",
    "''', with_column_types = True)\n",
    "\n",
    "\n",
    "col = []\n",
    "for i in columns:\n",
    "    col.append(i[0])\n",
    "traf = pd.DataFrame(re,columns=col)\n",
    "traf.head(5)"
   ]
  },
  {
   "cell_type": "code",
   "execution_count": null,
   "id": "35d7e7d8",
   "metadata": {
    "ExecuteTime": {
     "end_time": "2023-01-30T10:23:07.438135Z",
     "start_time": "2023-01-30T10:23:07.419407Z"
    }
   },
   "outputs": [],
   "source": [
    "traf['year'] = traf['year'].astype(int)\n",
    "traf['week'] = traf['week'].astype(int)\n",
    "traf['pbs_users'] = traf['pbs_users'].astype(int)\n",
    "traf['paid_users_num'] = traf['paid_users_num'].astype(int)"
   ]
  },
  {
   "cell_type": "code",
   "execution_count": null,
   "id": "7ac0ba7c",
   "metadata": {},
   "outputs": [],
   "source": [
    "# client.execute(\n",
    "# \"CREATE TABLE messnerav.ANCH_PUBS_PAID_CR(year Int, week Int, pbs_users Nullable(Int), paid_users_num Nullable(Int), CR Nullable(Float64)) ENGINE = MergeTree() ORDER BY (year, week)\"\n",
    "# )"
   ]
  },
  {
   "cell_type": "code",
   "execution_count": null,
   "id": "9216bfda",
   "metadata": {
    "ExecuteTime": {
     "end_time": "2023-01-30T10:23:11.963631Z",
     "start_time": "2023-01-30T10:23:11.841096Z"
    }
   },
   "outputs": [],
   "source": [
    "client.insert_dataframe(\"INSERT INTO messnerav.ANCH_PUBS_PAID_CR VALUES\", traf)"
   ]
  }
 ],
 "metadata": {
  "hide_input": false,
  "kernelspec": {
   "display_name": "Python 3 (ipykernel)",
   "language": "python",
   "name": "python3"
  },
  "language_info": {
   "codemirror_mode": {
    "name": "ipython",
    "version": 3
   },
   "file_extension": ".py",
   "mimetype": "text/x-python",
   "name": "python",
   "nbconvert_exporter": "python",
   "pygments_lexer": "ipython3",
   "version": "3.9.13"
  },
  "varInspector": {
   "cols": {
    "lenName": 16,
    "lenType": 16,
    "lenVar": 40
   },
   "kernels_config": {
    "python": {
     "delete_cmd_postfix": "",
     "delete_cmd_prefix": "del ",
     "library": "var_list.py",
     "varRefreshCmd": "print(var_dic_list())"
    },
    "r": {
     "delete_cmd_postfix": ") ",
     "delete_cmd_prefix": "rm(",
     "library": "var_list.r",
     "varRefreshCmd": "cat(var_dic_list()) "
    }
   },
   "types_to_exclude": [
    "module",
    "function",
    "builtin_function_or_method",
    "instance",
    "_Feature"
   ],
   "window_display": false
  }
 },
 "nbformat": 4,
 "nbformat_minor": 5
}
