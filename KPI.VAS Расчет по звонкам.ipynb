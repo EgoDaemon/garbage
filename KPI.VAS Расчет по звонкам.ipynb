{
 "cells": [
  {
   "cell_type": "markdown",
   "id": "62da5713",
   "metadata": {},
   "source": [
    "# Загрузка Партнеров из файла Влада с 2022"
   ]
  },
  {
   "cell_type": "code",
   "execution_count": 1,
   "id": "e0d4f068",
   "metadata": {
    "ExecuteTime": {
     "end_time": "2023-01-31T14:22:08.467135Z",
     "start_time": "2023-01-31T14:22:07.554747Z"
    }
   },
   "outputs": [],
   "source": [
    "import pandas_gbq\n",
    "import datetime as dt\n",
    "from oauth2client.service_account import ServiceAccountCredentials\n",
    "from google.oauth2 import service_account\n",
    "import gspread\n",
    "import pandas as pd\n",
    "import pandas_gbq"
   ]
  },
  {
   "cell_type": "code",
   "execution_count": null,
   "id": "702983e4",
   "metadata": {
    "ExecuteTime": {
     "end_time": "2023-01-31T14:21:43.498889Z",
     "start_time": "2023-01-31T14:21:43.477917Z"
    }
   },
   "outputs": [],
   "source": [
    "pd.set_option('display.max_columns', None)"
   ]
  },
  {
   "cell_type": "code",
   "execution_count": null,
   "id": "62e0ac0a",
   "metadata": {
    "ExecuteTime": {
     "end_time": "2023-01-31T14:21:44.927460Z",
     "start_time": "2023-01-31T14:21:44.704756Z"
    },
    "scrolled": true
   },
   "outputs": [],
   "source": [
    "SCOPES = ['https://www.googleapis.com/auth/analytics.readonly',\n",
    "             'https://spreadsheets.google.com/feeds',\n",
    "         'https://www.googleapis.com/auth/drive']\n",
    "credentials = ServiceAccountCredentials.from_json_keyfile_name('m2-main-cd9ed0b4e222.json', SCOPES)\n",
    "gc = gspread.authorize(credentials)\n",
    "\n",
    "sh = gc.open('VAS - Партнёры')\n",
    "wk = sh.worksheet('Ответы на форму (1)')\n",
    "list_of_dicts = wk.get_all_records()\n",
    "source = pd.DataFrame(list_of_dicts)"
   ]
  },
  {
   "cell_type": "code",
   "execution_count": null,
   "id": "65f94cef",
   "metadata": {
    "ExecuteTime": {
     "end_time": "2023-01-30T10:07:29.105136Z",
     "start_time": "2023-01-30T10:07:29.074188Z"
    }
   },
   "outputs": [],
   "source": [
    "df = source[['Отметка времени','Название агентства','Регион','Сумма договора','Дата старта','Выберите тип размещение на площадке', 'Какой номер для подмены используем в Mango? (Если не используем написать \"Без подменника\")', 'Владелец фида в ЕБА (owner_id)']].copy()\n",
    "df"
   ]
  },
  {
   "cell_type": "code",
   "execution_count": null,
   "id": "a98c3987",
   "metadata": {
    "ExecuteTime": {
     "end_time": "2023-01-30T10:07:37.680072Z",
     "start_time": "2023-01-30T10:07:37.660037Z"
    },
    "scrolled": true
   },
   "outputs": [],
   "source": [
    "df = df.rename(columns = {\n",
    " 'Отметка времени':'timestamp_mark',\n",
    " 'Название агентства':'agency', \n",
    " 'Регион':'region',\n",
    " 'Сумма договора': 'deal_amount',\n",
    " 'Дата старта': 'start_date',\n",
    " 'Выберите тип размещение на площадке': 'placement_type',\n",
    " 'Какой номер для подмены используем в Mango? (Если не используем написать \"Без подменника\")':'phone',\n",
    " 'Владелец фида в ЕБА (owner_id)':'joo'\n",
    "}).fillna(0)"
   ]
  },
  {
   "cell_type": "code",
   "execution_count": null,
   "id": "9e36e1fa",
   "metadata": {
    "ExecuteTime": {
     "end_time": "2023-01-30T10:07:39.088723Z",
     "start_time": "2023-01-30T10:07:39.001888Z"
    }
   },
   "outputs": [],
   "source": [
    "df['start_date'] = pd.to_datetime(df['start_date'], format='%d.%m.%Y')\n",
    "df['deal_amount'] = df['deal_amount'].astype(int)\n",
    "df['timestamp_mark'] = pd.to_datetime(df['timestamp_mark'])\n",
    "df = df[df['placement_type'].isin(['Первичное размещение', 'Пролонгация текущего договора'])]\n",
    "df = df.reset_index(drop=True)\n",
    "df = df[df['timestamp_mark']!='']"
   ]
  },
  {
   "cell_type": "code",
   "execution_count": null,
   "id": "ee20c859",
   "metadata": {
    "ExecuteTime": {
     "end_time": "2023-01-30T10:07:40.977010Z",
     "start_time": "2023-01-30T10:07:40.950082Z"
    },
    "scrolled": false
   },
   "outputs": [],
   "source": [
    "df['deal_amount'] = df['deal_amount'] / 30\n",
    "df['days'] = 30\n",
    "df"
   ]
  },
  {
   "cell_type": "code",
   "execution_count": null,
   "id": "ef728282",
   "metadata": {
    "ExecuteTime": {
     "end_time": "2023-01-30T10:07:44.191113Z",
     "start_time": "2023-01-30T10:07:44.172420Z"
    },
    "scrolled": true
   },
   "outputs": [],
   "source": [
    "df['agency'].unique()"
   ]
  },
  {
   "cell_type": "code",
   "execution_count": null,
   "id": "ccb0c3f4",
   "metadata": {
    "ExecuteTime": {
     "end_time": "2023-01-30T10:07:45.727416Z",
     "start_time": "2023-01-30T10:07:45.708704Z"
    }
   },
   "outputs": [],
   "source": [
    "df['agency'].nunique()"
   ]
  },
  {
   "cell_type": "code",
   "execution_count": null,
   "id": "935c15f4",
   "metadata": {
    "ExecuteTime": {
     "end_time": "2023-01-30T10:07:47.708692Z",
     "start_time": "2023-01-30T10:07:47.682294Z"
    }
   },
   "outputs": [],
   "source": [
    "df = df[['agency','region','start_date','deal_amount', 'phone','joo','days']].copy()\n",
    "df"
   ]
  },
  {
   "cell_type": "code",
   "execution_count": null,
   "id": "c79b4e6f",
   "metadata": {
    "ExecuteTime": {
     "end_time": "2023-01-30T10:07:55.124593Z",
     "start_time": "2023-01-30T10:07:53.879101Z"
    },
    "scrolled": true
   },
   "outputs": [],
   "source": [
    "df['start_date'] = pd.to_datetime(df['start_date'], format='%d.%m.%Y')\n",
    "\n",
    "agencies = df['agency'].unique()\n",
    "\n",
    "for a in agencies:\n",
    "\n",
    "    single_agency = df.query(\"agency == @a\").sort_values('start_date')\n",
    "\n",
    "    for index, row in single_agency.iterrows():\n",
    "        _row = df.loc[[index]] # пересчитываем из оригинального df на случай если уже изменили это значение на предыдущих итерациях цикла\n",
    "        start = _row['start_date'].iloc[0]\n",
    "        in_a_deal = start + dt.timedelta(days = 30)\n",
    "        overlaps = single_agency.query(\n",
    "            \"`start_date` < @in_a_deal and `start_date` > @start\")\n",
    "\n",
    "        if (len(overlaps)):\n",
    "\n",
    "            for i, ov in overlaps.iterrows():\n",
    "\n",
    "                print('Setting row {} to {}'.format(i, in_a_deal))\n",
    "                df.at[i,'start_date'] = in_a_deal\n",
    "\n",
    "# print(df)"
   ]
  },
  {
   "cell_type": "code",
   "execution_count": null,
   "id": "35ae28ac",
   "metadata": {
    "ExecuteTime": {
     "end_time": "2023-01-30T10:08:03.266297Z",
     "start_time": "2023-01-30T10:08:03.114658Z"
    }
   },
   "outputs": [],
   "source": [
    "df['days'] = df['days'].astype(int)\n",
    "cols = list(df.columns)+['date_spend']\n",
    "res = []\n",
    "for i in df.itertuples():    \n",
    "    for date_diff in range(i.days):\n",
    "        standart_row = list(i[1:])\n",
    "        date_spend = i.start_date + dt.timedelta(days=date_diff)\n",
    "        standart_row.append(date_spend)\n",
    "        res.append(standart_row)\n",
    "        \n",
    "common = pd.DataFrame(res, columns = cols)"
   ]
  },
  {
   "cell_type": "code",
   "execution_count": null,
   "id": "28a34c4d",
   "metadata": {
    "ExecuteTime": {
     "end_time": "2023-01-30T10:08:05.463438Z",
     "start_time": "2023-01-30T10:08:05.446480Z"
    },
    "scrolled": false
   },
   "outputs": [],
   "source": [
    "common"
   ]
  },
  {
   "cell_type": "code",
   "execution_count": null,
   "id": "0fa57ae8",
   "metadata": {
    "ExecuteTime": {
     "end_time": "2023-01-30T10:10:46.554427Z",
     "start_time": "2023-01-30T10:10:46.531452Z"
    },
    "scrolled": false
   },
   "outputs": [],
   "source": [
    "common['deal_amount'] = common['deal_amount'].astype(float)\n",
    "common = common[common['date_spend'] >= '2022-01-01']\n",
    "common"
   ]
  },
  {
   "cell_type": "code",
   "execution_count": null,
   "id": "f826aa65",
   "metadata": {
    "ExecuteTime": {
     "end_time": "2023-01-30T10:10:57.037628Z",
     "start_time": "2023-01-30T10:10:56.990535Z"
    },
    "scrolled": false
   },
   "outputs": [],
   "source": [
    "df = common.copy()\n",
    "df['agency'] = df['agency'].str.lower()\n",
    "df = df.groupby(['agency','region','phone','joo']).agg(sum=('deal_amount', 'sum')).reset_index()\n",
    "df.head()"
   ]
  },
  {
   "cell_type": "code",
   "execution_count": null,
   "id": "dca78d05",
   "metadata": {
    "ExecuteTime": {
     "end_time": "2023-01-30T10:11:00.086072Z",
     "start_time": "2023-01-30T10:11:00.067900Z"
    }
   },
   "outputs": [],
   "source": [
    "df = df.sort_values(by=['region','phone'])"
   ]
  },
  {
   "cell_type": "code",
   "execution_count": null,
   "id": "151b13ae",
   "metadata": {
    "ExecuteTime": {
     "end_time": "2023-01-30T10:11:02.828415Z",
     "start_time": "2023-01-30T10:11:02.818368Z"
    },
    "scrolled": true
   },
   "outputs": [],
   "source": [
    "df = df.drop(df.columns[[4]], axis=1).copy()"
   ]
  },
  {
   "cell_type": "code",
   "execution_count": null,
   "id": "9ea1cd80",
   "metadata": {
    "ExecuteTime": {
     "end_time": "2023-01-30T10:11:04.211722Z",
     "start_time": "2023-01-30T10:11:04.190538Z"
    }
   },
   "outputs": [],
   "source": [
    "df.head()"
   ]
  },
  {
   "cell_type": "code",
   "execution_count": null,
   "id": "4a9519bb",
   "metadata": {
    "ExecuteTime": {
     "end_time": "2023-01-30T10:11:08.772363Z",
     "start_time": "2023-01-30T10:11:08.753679Z"
    }
   },
   "outputs": [],
   "source": [
    "df['agency'] = df['agency'].astype(str)\n",
    "df['region'] = df['region'].astype(str)\n",
    "df['phone'] = df['phone'].astype(str)\n",
    "df['joo'] = df['joo'].astype(int)"
   ]
  },
  {
   "cell_type": "code",
   "execution_count": null,
   "id": "e02425ca",
   "metadata": {
    "ExecuteTime": {
     "end_time": "2023-01-30T10:11:10.577669Z",
     "start_time": "2023-01-30T10:11:10.562593Z"
    }
   },
   "outputs": [],
   "source": [
    "t1 =  df.values.tolist()"
   ]
  },
  {
   "cell_type": "code",
   "execution_count": null,
   "id": "57459025",
   "metadata": {
    "ExecuteTime": {
     "end_time": "2023-01-30T10:11:32.797501Z",
     "start_time": "2023-01-30T10:11:30.834149Z"
    }
   },
   "outputs": [],
   "source": [
    "sh = gc.open(\"VAS. Расчет по звонкам\")\n",
    "wk = sh.worksheet('Звонки_update_2023')\n",
    "wk.update('A8', t1)"
   ]
  },
  {
   "cell_type": "markdown",
   "id": "229eec55",
   "metadata": {},
   "source": [
    "# 1. ClickHouse via JOO"
   ]
  },
  {
   "cell_type": "code",
   "execution_count": null,
   "id": "470b9cec",
   "metadata": {
    "ExecuteTime": {
     "end_time": "2023-01-30T10:11:52.348321Z",
     "start_time": "2023-01-30T10:11:52.083552Z"
    }
   },
   "outputs": [],
   "source": [
    "from clickhouse_driver.client import Client\n",
    "import datetime\n",
    "import pandas\n",
    "\n",
    "start = (datetime.datetime.today()-datetime.timedelta(days=7)).date()\n",
    "end = (datetime.datetime.today()-datetime.timedelta(days=1)).date() \n",
    "print(start)\n",
    "print(end)"
   ]
  },
  {
   "cell_type": "code",
   "execution_count": null,
   "id": "990245aa",
   "metadata": {
    "ExecuteTime": {
     "end_time": "2023-01-30T10:12:00.660352Z",
     "start_time": "2023-01-30T10:11:56.648852Z"
    }
   },
   "outputs": [],
   "source": [
    "# НЕТ ДАННЫХ В МТС БАЗЕ ЗА ПЕРИОД 5-19 декабря 2022\n",
    "\n",
    "HOST = '' #удалила креды\n",
    "PORT = ''\n",
    "PASS = ''\n",
    "DB = ''\n",
    "USER = ''\n",
    "db_url = 'http://' + USER + ':' + PASS + '@' + HOST + ':' + PORT + '/' + DB\n",
    "def init_client():\n",
    "    print('Init db connection on ' + db_url)\n",
    "    return Client.from_url(db_url)\n",
    "client = init_client()\n",
    "res = client.execute(f'''SELECT \n",
    "       caller_number as caller,\n",
    "       external_number as reciever,\n",
    "       start_time as start_dt,\n",
    "       offer_owner_id  as joo,\n",
    "       talk_duration\n",
    "from doppelganger.mts_stats\n",
    "where external_number is not Null and start_dt between '{start}' and '{end}' ''')\n",
    "\n",
    "cols = ['caller','reciever','start_dt','joo', 'talk_dur']\n",
    "results = pandas.DataFrame(res, columns = cols)"
   ]
  },
  {
   "cell_type": "code",
   "execution_count": null,
   "id": "a853d03b",
   "metadata": {
    "ExecuteTime": {
     "end_time": "2023-01-30T10:12:00.716021Z",
     "start_time": "2023-01-30T10:12:00.716021Z"
    },
    "scrolled": true
   },
   "outputs": [],
   "source": [
    "results.sort_values(by='start_dt').head()\n",
    "results"
   ]
  },
  {
   "cell_type": "code",
   "execution_count": null,
   "id": "5148f061",
   "metadata": {
    "ExecuteTime": {
     "end_time": "2023-01-30T10:12:01.764083Z",
     "start_time": "2023-01-30T10:12:01.737128Z"
    }
   },
   "outputs": [],
   "source": [
    "results['start_dt'] = results['start_dt'].astype(str)\n",
    "results = results.sort_values(by='start_dt').copy()\n",
    "\n",
    "import re\n",
    "def clear(text):\n",
    "    text = re.sub('\\+[0-9]+', ' ', text)\n",
    "    text = re.sub('\\.[0-9]+', ' ', text)\n",
    "    text = re.sub('\\ :[0-9]+', ' ', text)\n",
    "    text = re.sub('\\ -[0-9]+', ' ', text)\n",
    "    text = re.sub('\\ :[0-9]+', '', str(text))\n",
    "    text = re.sub('\\:[0-9]+\\:[0-9]+', '', text)\n",
    "    text = re.sub('\\ [0-9]+', '', text)\n",
    "    return text.strip()\n",
    "\n",
    "results['start_dt'] = [clear(words) for words in results['start_dt']]\n",
    "results.head(5)"
   ]
  },
  {
   "cell_type": "code",
   "execution_count": null,
   "id": "2033cb27",
   "metadata": {
    "ExecuteTime": {
     "end_time": "2023-01-30T10:12:03.981341Z",
     "start_time": "2023-01-30T10:12:03.960312Z"
    }
   },
   "outputs": [],
   "source": [
    "results['joo'].unique()"
   ]
  },
  {
   "cell_type": "code",
   "execution_count": null,
   "id": "ba97c7bd",
   "metadata": {
    "ExecuteTime": {
     "end_time": "2023-01-30T10:12:05.300416Z",
     "start_time": "2023-01-30T10:12:05.280659Z"
    }
   },
   "outputs": [],
   "source": [
    "results = results[(results.talk_dur > 30)]\n",
    "results"
   ]
  },
  {
   "cell_type": "code",
   "execution_count": null,
   "id": "8557d15e",
   "metadata": {
    "ExecuteTime": {
     "end_time": "2023-01-30T10:12:06.770244Z",
     "start_time": "2023-01-30T10:12:06.760270Z"
    },
    "scrolled": true
   },
   "outputs": [],
   "source": [
    "def seven(phone):\n",
    "    phone = '7' + phone\n",
    "    return phone.strip()\n",
    "results['reciever'] = [seven(phone) for phone in results['reciever']]\n",
    "results['caller'] = [seven(phone) for phone in results['caller']]"
   ]
  },
  {
   "cell_type": "code",
   "execution_count": null,
   "id": "83233700",
   "metadata": {
    "ExecuteTime": {
     "end_time": "2023-01-30T10:12:09.080227Z",
     "start_time": "2023-01-30T10:12:09.058249Z"
    },
    "scrolled": true
   },
   "outputs": [],
   "source": [
    "import datetime as dt\n",
    "import pandas as pd\n",
    "results['start_dt'] = pd.to_datetime(results['start_dt'], format='%Y-%m-%d')\n",
    "results['isoweek'] = results['start_dt'].dt.isocalendar().week"
   ]
  },
  {
   "cell_type": "code",
   "execution_count": null,
   "id": "fa1fbcdb",
   "metadata": {
    "ExecuteTime": {
     "end_time": "2023-01-30T10:12:10.107734Z",
     "start_time": "2023-01-30T10:12:10.086814Z"
    },
    "scrolled": true
   },
   "outputs": [],
   "source": [
    "results = results[['isoweek', 'caller', 'reciever', 'joo']]\n",
    "results.rename(columns={'caller': 'Кто звонил', 'reciever': 'Набранный номер', 'joo': 'Участники',}, inplace=True)\n",
    "click_house = results.copy()\n",
    "click_house"
   ]
  },
  {
   "cell_type": "markdown",
   "id": "031ab0a3",
   "metadata": {},
   "source": [
    "# 2. Mango via phone"
   ]
  },
  {
   "cell_type": "code",
   "execution_count": null,
   "id": "60396902",
   "metadata": {
    "ExecuteTime": {
     "end_time": "2023-01-30T10:14:48.915149Z",
     "start_time": "2023-01-30T10:14:48.896004Z"
    }
   },
   "outputs": [],
   "source": [
    "# Удалила креды\n",
    "\n",
    "import csv    \n",
    "\n",
    "x = r'C:\\Users\\yakovlevaev\\Downloads\\Mango-Office_400200144_30_01_2023_13_14.csv'\n",
    "#path= f'mog/{x}'\n",
    "with open(x, newline='') as csvfile:\n",
    "    spamreader = csv.reader(csvfile, delimiter=';', quotechar='\"')\n",
    "    doc = list(spamreader)\n",
    "pd_calls = pd.DataFrame(doc[2:], columns = [i.replace('\"','').replace('=','') for i in doc[1]])"
   ]
  },
  {
   "cell_type": "code",
   "execution_count": null,
   "id": "6ea5a8f4",
   "metadata": {
    "ExecuteTime": {
     "end_time": "2023-01-30T10:14:50.648394Z",
     "start_time": "2023-01-30T10:14:50.617482Z"
    }
   },
   "outputs": [],
   "source": [
    "cols = ['Кто звонил', 'Набранный номер', 'Участники']\n",
    "for i in cols:\n",
    "    pd_calls[i] = pd_calls[i].apply(lambda x: x.replace('\"','').replace('=',''))\n",
    "pd_calls"
   ]
  },
  {
   "cell_type": "code",
   "execution_count": null,
   "id": "55a47ac7",
   "metadata": {
    "ExecuteTime": {
     "end_time": "2023-01-30T10:14:58.168606Z",
     "start_time": "2023-01-30T10:14:58.133606Z"
    }
   },
   "outputs": [],
   "source": [
    "pd_calls['Длительность, сек'] = pd_calls['Длительность, сек'].astype(int)\n",
    "pd_calls = pd_calls[(pd_calls['Длительность, сек'] > 30)]\n",
    "pd_calls = pd_calls.loc[~pd_calls['Набранный номер'].str.contains('.*@.*', regex=True, flags=re.I)].reset_index()\n",
    "pd_calls.head()"
   ]
  },
  {
   "cell_type": "code",
   "execution_count": null,
   "id": "9944be64",
   "metadata": {
    "ExecuteTime": {
     "end_time": "2023-01-30T10:14:59.911435Z",
     "start_time": "2023-01-30T10:14:59.884118Z"
    }
   },
   "outputs": [],
   "source": [
    "pd_calls = pd_calls.drop(columns = ['Длительность, сек' , 'Стоимость, руб', 'Стоимость без услуг, руб'])\n",
    "pd_calls['Время'] = pd_calls['Время'].apply(lambda x: x[:10])\n",
    "pd_calls['Время'] =pd_calls['Время'].apply(lambda x: datetime.datetime.strptime(x,'%d.%m.%Y').date())\n",
    "pd_calls = pd_calls.sort_values(by=['Время'], ignore_index =True)"
   ]
  },
  {
   "cell_type": "code",
   "execution_count": null,
   "id": "df9a45f9",
   "metadata": {
    "ExecuteTime": {
     "end_time": "2023-01-30T10:15:01.923310Z",
     "start_time": "2023-01-30T10:15:01.906394Z"
    },
    "scrolled": true
   },
   "outputs": [],
   "source": [
    "pd_calls.drop('Тип вызова', axis=1, inplace=True)"
   ]
  },
  {
   "cell_type": "code",
   "execution_count": null,
   "id": "ecbf9593",
   "metadata": {
    "ExecuteTime": {
     "end_time": "2023-01-30T10:15:03.037744Z",
     "start_time": "2023-01-30T10:15:03.010868Z"
    }
   },
   "outputs": [],
   "source": [
    "pd_calls['Время'] = pd.to_datetime(pd_calls['Время'], format='%Y-%m-%d')\n",
    "pd_calls['isoweek'] = pd_calls['Время'].dt.isocalendar().week"
   ]
  },
  {
   "cell_type": "code",
   "execution_count": null,
   "id": "d6139f84",
   "metadata": {
    "ExecuteTime": {
     "end_time": "2023-01-30T10:15:04.906342Z",
     "start_time": "2023-01-30T10:15:04.886361Z"
    },
    "scrolled": true
   },
   "outputs": [],
   "source": [
    "pd_calls = pd_calls[['isoweek', 'Кто звонил', 'Набранный номер', 'Участники']]"
   ]
  },
  {
   "cell_type": "code",
   "execution_count": null,
   "id": "f69d313a",
   "metadata": {
    "ExecuteTime": {
     "end_time": "2023-01-30T10:15:06.236408Z",
     "start_time": "2023-01-30T10:15:06.214334Z"
    }
   },
   "outputs": [],
   "source": [
    "mango = pd_calls.copy()\n",
    "mango"
   ]
  },
  {
   "cell_type": "code",
   "execution_count": null,
   "id": "4c81274c",
   "metadata": {
    "ExecuteTime": {
     "end_time": "2023-01-30T10:15:11.826225Z",
     "start_time": "2023-01-30T10:15:11.793939Z"
    },
    "scrolled": false
   },
   "outputs": [],
   "source": [
    "# на всякий случай проверка на дубли --- в Манго табле остаются только те номера, которых нет в КликХаусе\n",
    "click_house['Набранный номер'] = click_house['Набранный номер'].astype(str)\n",
    "mango['Набранный номер'] = mango['Набранный номер'].astype(str)\n",
    "mango = mango[~mango['Набранный номер'].isin(click_house['Набранный номер'])].reset_index(drop=True)\n",
    "mango"
   ]
  },
  {
   "cell_type": "code",
   "execution_count": null,
   "id": "870d9341",
   "metadata": {
    "ExecuteTime": {
     "end_time": "2023-01-30T10:15:13.477473Z",
     "start_time": "2023-01-30T10:15:13.457527Z"
    }
   },
   "outputs": [],
   "source": [
    "clh = click_house[['isoweek', 'Участники']].copy()\n",
    "clh.rename(columns={'Участники': 'joo_or_phone'}, inplace=True)\n",
    "mng = mango[['isoweek', 'Набранный номер']].copy()\n",
    "mng.rename(columns={'Набранный номер': 'joo_or_phone'}, inplace=True)"
   ]
  },
  {
   "cell_type": "code",
   "execution_count": null,
   "id": "43085f2a",
   "metadata": {
    "ExecuteTime": {
     "end_time": "2023-01-30T10:15:14.587908Z",
     "start_time": "2023-01-30T10:15:14.554195Z"
    }
   },
   "outputs": [],
   "source": [
    "# склеиваем\n",
    "frames = [clh, mng]\n",
    "common = pd.concat(frames)\n",
    "common['calls'] = 1\n",
    "common"
   ]
  },
  {
   "cell_type": "markdown",
   "id": "59155017",
   "metadata": {},
   "source": [
    "# 3. Расхлопы via JOO"
   ]
  },
  {
   "cell_type": "code",
   "execution_count": null,
   "id": "108fb24d",
   "metadata": {
    "ExecuteTime": {
     "end_time": "2023-01-30T10:15:16.787275Z",
     "start_time": "2023-01-30T10:15:16.763214Z"
    }
   },
   "outputs": [],
   "source": [
    "from datetime import date\n",
    "today = date.today()\n",
    "week = today.isocalendar()[1] - 1\n",
    "week"
   ]
  },
  {
   "cell_type": "code",
   "execution_count": null,
   "id": "0a4ca82b",
   "metadata": {
    "ExecuteTime": {
     "end_time": "2023-01-30T10:15:18.503210Z",
     "start_time": "2023-01-30T10:15:18.490245Z"
    },
    "scrolled": true
   },
   "outputs": [],
   "source": [
    "from clickhouse_key import ch_key\n",
    "from clickhouse_driver import Client\n",
    "\n",
    "client = Client(ch_key['db_host'],\n",
    "               user=ch_key['db_user'],\n",
    "               password=ch_key['db_password'],\n",
    "               verify=False,\n",
    "               database=ch_key['db_name'], settings={'use_numpy': True})"
   ]
  },
  {
   "cell_type": "code",
   "execution_count": null,
   "id": "ebfc09e9",
   "metadata": {
    "ExecuteTime": {
     "end_time": "2023-01-30T10:15:23.341201Z",
     "start_time": "2023-01-30T10:15:20.892324Z"
    }
   },
   "outputs": [],
   "source": [
    "re, columns = client.execute(f'''\n",
    "select\n",
    "    toISOWeek(dateHourMinute) as isoweek,\n",
    "    EXTRACT(eventAction, '.*_(.*)_.*') AS joo_or_phone,\n",
    "    CAST(FLOOR(sum(uniqueEvents) * 0.11) AS INT) as calls\n",
    "from ga.RAW_EVENTS\n",
    "where match(eventlabel, 'UPUNICLOP_.*_(card|serp)')\n",
    "    AND match(eventCategory, 'second_sell_true_unknown.*')\n",
    "    and length(EXTRACT(eventAction, '.*_(.*)_.*')) > 0\n",
    "    AND toISOYear(dateHourMinute) >= 2023\n",
    "    AND toISOWeek(dateHourMinute) >= {week}\n",
    "group by isoweek, joo_or_phone\n",
    "order by isoweek, joo_or_phone\n",
    "''', with_column_types = True)"
   ]
  },
  {
   "cell_type": "code",
   "execution_count": null,
   "id": "966cc971",
   "metadata": {
    "ExecuteTime": {
     "end_time": "2023-01-30T10:15:24.395532Z",
     "start_time": "2023-01-30T10:15:24.373515Z"
    }
   },
   "outputs": [],
   "source": [
    "col = ['isoweek', 'joo_or_phone', 'calls']\n",
    "res = pd.DataFrame(re,columns=col)\n",
    "res.head(4)"
   ]
  },
  {
   "cell_type": "code",
   "execution_count": null,
   "id": "176af5a4",
   "metadata": {
    "ExecuteTime": {
     "end_time": "2023-01-30T10:15:26.368410Z",
     "start_time": "2023-01-30T10:15:26.348429Z"
    }
   },
   "outputs": [],
   "source": [
    "res.info()"
   ]
  },
  {
   "cell_type": "code",
   "execution_count": null,
   "id": "b359e826",
   "metadata": {
    "ExecuteTime": {
     "end_time": "2023-01-30T10:15:28.121655Z",
     "start_time": "2023-01-30T10:15:28.104768Z"
    },
    "scrolled": false
   },
   "outputs": [],
   "source": [
    "clops = res.copy()"
   ]
  },
  {
   "cell_type": "code",
   "execution_count": null,
   "id": "e17bcb98",
   "metadata": {
    "ExecuteTime": {
     "end_time": "2023-01-30T10:15:29.544016Z",
     "start_time": "2023-01-30T10:15:29.525458Z"
    }
   },
   "outputs": [],
   "source": [
    "clops['joo_or_phone'] = clops['joo_or_phone'].astype(str)\n",
    "clh['joo_or_phone'] = clh['joo_or_phone'].astype(str)"
   ]
  },
  {
   "cell_type": "code",
   "execution_count": null,
   "id": "71cbbde3",
   "metadata": {
    "ExecuteTime": {
     "end_time": "2023-01-30T10:15:30.642454Z",
     "start_time": "2023-01-30T10:15:30.612504Z"
    },
    "scrolled": true
   },
   "outputs": [],
   "source": [
    "# обязательная проверка на дубли\n",
    "clops = clops[~clops['joo_or_phone'].isin(clh['joo_or_phone'])].reset_index(drop=True)\n",
    "clp = clops[(clops[['joo_or_phone']] != '').any(axis=1)].reset_index(drop=True)\n",
    "clp"
   ]
  },
  {
   "cell_type": "code",
   "execution_count": null,
   "id": "2f6ab89e",
   "metadata": {
    "ExecuteTime": {
     "end_time": "2023-01-30T10:15:32.338753Z",
     "start_time": "2023-01-30T10:15:32.305878Z"
    },
    "scrolled": true
   },
   "outputs": [],
   "source": [
    "frames = [common, clp]\n",
    "total = pd.concat(frames).groupby(['isoweek','joo_or_phone']).agg(calls=('calls', 'sum')).reset_index()\n",
    "total"
   ]
  },
  {
   "cell_type": "code",
   "execution_count": null,
   "id": "ea2839f4",
   "metadata": {
    "ExecuteTime": {
     "end_time": "2023-01-30T10:15:33.965766Z",
     "start_time": "2023-01-30T10:15:33.948778Z"
    }
   },
   "outputs": [],
   "source": [
    "# a1_vas = [total.columns.values.tolist()] + total.values.tolist()\n",
    "a1_vas = total.values.tolist()"
   ]
  },
  {
   "cell_type": "code",
   "execution_count": null,
   "id": "6af8e682",
   "metadata": {
    "ExecuteTime": {
     "end_time": "2023-01-30T10:16:14.698835Z",
     "start_time": "2023-01-30T10:16:12.981329Z"
    }
   },
   "outputs": [],
   "source": [
    "sh = gc.open(\"VAS. Расчет по звонкам\")\n",
    "wk = sh.worksheet('Расхлопы_2023')\n",
    "#wk.update('G1', a1_vas)\n",
    "wk.append_rows(a1_vas, table_range=\"G1\")"
   ]
  },
  {
   "cell_type": "markdown",
   "id": "14a01d07",
   "metadata": {},
   "source": [
    "# Часть 11% от расхлопов"
   ]
  },
  {
   "cell_type": "code",
   "execution_count": null,
   "id": "afff9078",
   "metadata": {
    "ExecuteTime": {
     "end_time": "2023-01-30T10:16:37.071085Z",
     "start_time": "2023-01-30T10:16:36.078950Z"
    }
   },
   "outputs": [],
   "source": [
    "result, columns = client.execute('''\n",
    "select\n",
    "    toISOWeek(dateHourMinute) as isoweek,\n",
    "    EXTRACT(eventAction, '(.*?)_.*') as eventaction,\n",
    "    sum(totalEvents) as rashlop\n",
    "from ga.RAW_EVENTS\n",
    "where eventlabel IN ('ClCardSellSecondVasPhoneClickAll', 'ClSerpSellSecondVasPhoneClick')\n",
    "    and dateHourMinute >= '2023-01-02' and length(EXTRACT(eventAction, '(.*?)_.*')) > 0\n",
    "group by isoweek, eventaction\n",
    "order by isoweek, eventaction\n",
    "''', with_column_types = True)\n",
    "\n",
    "col = ['isoweek', 'eventaction', 'rashlop']\n",
    "r = pd.DataFrame(result, columns=col)\n",
    "r.head(4)"
   ]
  },
  {
   "cell_type": "code",
   "execution_count": null,
   "id": "7860901f",
   "metadata": {
    "ExecuteTime": {
     "end_time": "2023-01-30T10:16:39.256547Z",
     "start_time": "2023-01-30T10:16:39.248567Z"
    }
   },
   "outputs": [],
   "source": [
    "a1_vas = [r.columns.values.tolist()] + r.values.tolist()"
   ]
  },
  {
   "cell_type": "code",
   "execution_count": null,
   "id": "745b1760",
   "metadata": {
    "ExecuteTime": {
     "end_time": "2023-01-30T10:16:41.694397Z",
     "start_time": "2023-01-30T10:16:40.336803Z"
    }
   },
   "outputs": [],
   "source": [
    "sh = gc.open(\"VAS. Расчет по звонкам\")\n",
    "wk = sh.worksheet('Расхлопы_2023')\n",
    "wk.update('A1', a1_vas)"
   ]
  }
 ],
 "metadata": {
  "hide_input": false,
  "kernelspec": {
   "display_name": "Python 3 (ipykernel)",
   "language": "python",
   "name": "python3"
  },
  "language_info": {
   "codemirror_mode": {
    "name": "ipython",
    "version": 3
   },
   "file_extension": ".py",
   "mimetype": "text/x-python",
   "name": "python",
   "nbconvert_exporter": "python",
   "pygments_lexer": "ipython3",
   "version": "3.9.13"
  },
  "varInspector": {
   "cols": {
    "lenName": 16,
    "lenType": 16,
    "lenVar": 40
   },
   "kernels_config": {
    "python": {
     "delete_cmd_postfix": "",
     "delete_cmd_prefix": "del ",
     "library": "var_list.py",
     "varRefreshCmd": "print(var_dic_list())"
    },
    "r": {
     "delete_cmd_postfix": ") ",
     "delete_cmd_prefix": "rm(",
     "library": "var_list.r",
     "varRefreshCmd": "cat(var_dic_list()) "
    }
   },
   "types_to_exclude": [
    "module",
    "function",
    "builtin_function_or_method",
    "instance",
    "_Feature"
   ],
   "window_display": false
  }
 },
 "nbformat": 4,
 "nbformat_minor": 5
}
