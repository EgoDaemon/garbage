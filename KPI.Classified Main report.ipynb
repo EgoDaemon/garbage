{
 "cells": [
  {
   "cell_type": "code",
   "execution_count": null,
   "id": "a466cc09",
   "metadata": {
    "ExecuteTime": {
     "end_time": "2023-01-30T09:36:39.265166Z",
     "start_time": "2023-01-30T09:36:36.782953Z"
    }
   },
   "outputs": [],
   "source": [
    "from oauth2client.service_account import ServiceAccountCredentials\n",
    "import datetime\n",
    "import gspread\n",
    "import pandas as pd\n",
    "\n",
    "from google.oauth2 import service_account\n",
    "from isoweek import Week\n",
    "import datetime as dt\n",
    "\n",
    "import pandas_gbq\n",
    "import requests\n",
    "import json\n",
    "import string\n",
    "from clickhouse_key import ch_key\n",
    "from clickhouse_driver import Client"
   ]
  },
  {
   "cell_type": "code",
   "execution_count": null,
   "id": "43a838bc",
   "metadata": {
    "ExecuteTime": {
     "end_time": "2023-01-30T09:36:40.141593Z",
     "start_time": "2023-01-30T09:36:40.118613Z"
    }
   },
   "outputs": [],
   "source": [
    "key_path = 'm2-main-cd9ed0b4e222.json'\n",
    "gbq_credential = service_account.Credentials.from_service_account_file(key_path,)\n",
    "SCOPES = ['https://www.googleapis.com/auth/analytics.readonly',\n",
    "             'https://spreadsheets.google.com/feeds',\n",
    "         'https://www.googleapis.com/auth/drive']\n",
    "credentials = ServiceAccountCredentials.from_json_keyfile_name('m2-main-cd9ed0b4e222.json', SCOPES)\n",
    "gc = gspread.authorize(credentials)"
   ]
  },
  {
   "cell_type": "code",
   "execution_count": null,
   "id": "db4479cc",
   "metadata": {
    "ExecuteTime": {
     "end_time": "2023-01-30T09:36:41.808770Z",
     "start_time": "2023-01-30T09:36:41.789823Z"
    }
   },
   "outputs": [],
   "source": [
    "client = Client(ch_key['db_host'],\n",
    "               user=ch_key['db_user'],\n",
    "               password=ch_key['db_password'],\n",
    "               verify=False,\n",
    "               database=ch_key['db_name'], settings={'use_numpy': True})"
   ]
  },
  {
   "cell_type": "markdown",
   "id": "0aecb4c6",
   "metadata": {},
   "source": [
    "# Трафик по областям (дозапись)"
   ]
  },
  {
   "cell_type": "code",
   "execution_count": null,
   "id": "192eb7a4",
   "metadata": {
    "ExecuteTime": {
     "end_time": "2023-01-30T09:36:44.265992Z",
     "start_time": "2023-01-30T09:36:44.238275Z"
    }
   },
   "outputs": [],
   "source": [
    "from datetime import date\n",
    "today = date.today()\n",
    "week = today.isocalendar()[1] - 1\n",
    "week"
   ]
  },
  {
   "cell_type": "code",
   "execution_count": null,
   "id": "306131f0",
   "metadata": {
    "ExecuteTime": {
     "end_time": "2023-01-30T09:36:48.662299Z",
     "start_time": "2023-01-30T09:36:45.822940Z"
    }
   },
   "outputs": [],
   "source": [
    "re, columns = client.execute(f'''\n",
    "SELECT\n",
    "    toISOWeek(date) as week,\n",
    "    source,\n",
    "    medium,\n",
    "    CASE\n",
    "        WHEN (match (landingpagepath, '(moskva-i-oblast|moskva|moskovskaya-oblast)')) THEN 'msk'\n",
    "        WHEN (match(landingpagepath, '(sankt-peterburg|leningradskaya-oblast|sankt-peterburg-i-oblast)')) THEN 'spb'\n",
    "        ELSE 'region'\n",
    "    END as geo,\n",
    "    case\n",
    "        when (medium like '%cpc%' and\n",
    "              (campaign like '%search_second-building-discovery%' or campaign like '%second-building-smart-kms%')) then 'CPC_UP_Trash'\n",
    "        WHEN campaign LIKE '%second-building%' then 'CPC_UP'\n",
    "        WHEN campaign LIKE '%new-build%' then 'CPC_NB'\n",
    "        else 'Not_cpc'\n",
    "    end as cmp_class,\n",
    "    count(distinct dimension1) as uniqs,\n",
    "    count(distinct dimension4) as sessions\n",
    "FROM ga.UA_TRAFIC_BIG\n",
    "where landingpagepath like '%nedvizhimost%' AND toISOYear(date) = 2023 and toISOWeek(date) = {week}\n",
    "group by week, source, medium, geo, cmp_class\n",
    "order by week\n",
    "''', with_column_types = True)\n",
    "\n",
    "col = []\n",
    "for i in columns:\n",
    "    col.append(i[0])\n",
    "traf = pd.DataFrame(re,columns=col)\n",
    "traf.head(5)\n",
    "\n",
    "traf = traf[['week', 'geo', 'cmp_class', 'uniqs', 'sessions', 'medium', 'source']]\n",
    "traf_check = traf.values.tolist()\n",
    "# traf_check = [traf.columns.values.tolist()] + traf.values.tolist()\n",
    "sh = gc.open(\"Classified.Reports 2023\")\n",
    "wk = sh.worksheet('source')\n",
    "# wk.update(\"A1\", traf_check)\n",
    "wk.append_rows(traf_check, table_range=\"A2\")"
   ]
  },
  {
   "cell_type": "code",
   "execution_count": null,
   "id": "d60dbeae",
   "metadata": {
    "ExecuteTime": {
     "end_time": "2023-01-30T09:37:15.982040Z",
     "start_time": "2023-01-30T09:37:13.792262Z"
    }
   },
   "outputs": [],
   "source": [
    "re, columns = client.execute(f'''\n",
    "with \n",
    "a as (\n",
    "    select\n",
    "        dateHourMinute,\n",
    "        dimension4,\n",
    "        totalEvents\n",
    "    from ga.RAW_EVENTS\n",
    "    where match(eventCategory, '^new_.*_sell_.*') AND match(eventlabel, 'UPUNICLOP_.*')\n",
    "      and toISOYear(date) = 2023 AND toISOWeek(date) = {week}\n",
    "    group by dimension4, totalEvents, dateHourMinute\n",
    "),\n",
    "\n",
    "b as (\n",
    "    SELECT\n",
    "        dimension1,\n",
    "        dimension4\n",
    "    from ga.UA_TRAFIC_BIG\n",
    "    where toISOYear(dateHourMinute) = 2023 and toISOWeek(dateHourMinute) = {week}\n",
    "    group by dimension1, dimension4\n",
    ")\n",
    "\n",
    "select\n",
    "    toISOWeek(dateHourMinute) as week,\n",
    "    sum(totalEvents) as tot_events,\n",
    "    count(distinct dimension1) as uns_clops,\n",
    "    count(distinct dimension4) as ses_clops\n",
    "from a \n",
    "left join b ON a.dimension4 = b.dimension4 \n",
    "group by week\n",
    "''', with_column_types = True)\n",
    "\n",
    "\n",
    "col = []\n",
    "for i in columns:\n",
    "    col.append(i[0])\n",
    "traf = pd.DataFrame(re,columns=col)\n",
    "\n",
    "\n",
    "traf_check = traf.values.tolist()\n",
    "# traf_check = [traf.columns.values.tolist()] + traf.values.tolist()\n",
    "sh = gc.open(\"Classified.Reports 2023\")\n",
    "wk = sh.worksheet('source')\n",
    "# wk.update(\"I1\", traf_check)\n",
    "wk.append_rows(traf_check, table_range=\"I2\")"
   ]
  },
  {
   "cell_type": "code",
   "execution_count": null,
   "id": "1cb13936",
   "metadata": {
    "ExecuteTime": {
     "end_time": "2023-01-30T09:37:31.920569Z",
     "start_time": "2023-01-30T09:37:29.047193Z"
    }
   },
   "outputs": [],
   "source": [
    "re, columns = client.execute(f'''\n",
    "with \n",
    "pv as(\n",
    "    SELECT dimension4  \n",
    "    from ga.PAGE_VIEWS\n",
    "    where pagepath  like '%nedvizhimost%' AND toISOYear(date) = 2023 AND toISOWeek(date) = {week} \n",
    "),\n",
    "\n",
    "tr as(\n",
    "    SELECT dateHourMinute, landingpagepath, medium, campaign, source, dimension1, dimension4\n",
    "    FROM ga.UA_TRAFIC_BIG\n",
    "    where toISOYear(dateHourMinute) = 2023 AND toISOWeek(dateHourMinute) = {week}\n",
    ")\n",
    "\n",
    "SELECT\n",
    "    toISOWeek(dateHourMinute) as week,\n",
    "    CASE\n",
    "        WHEN (match (landingpagepath, '.*nedvizhimost.*(sankt-peterburg|leningradskaya-oblast|sankt-peterburg-i-oblast).*')) THEN 'SPB_UP '\n",
    "        WHEN (match(landingpagepath, '.*nedvizhimost.*(moskva-i-oblast|moskva|moskovskaya-oblast).*')) THEN 'MSK_UP'\n",
    "        ELSE 'OTHER_LP'\n",
    "    END as region,\n",
    "    case       \n",
    "        when landingpagepath = '/' and medium like '%organic%' then 'Brand_organic'\n",
    "        when landingpagepath = '/' then 'Brand_other'\n",
    "        when (medium like '%cpc%' and (campaign  like '%search_second-building-discovery%' or campaign like '%second-building-smart-kms%')) then 'CPC_UP_Trash'\n",
    "        WHEN campaign LIKE '%second-building%' then 'CPC_UP'\n",
    "        WHEN campaign LIKE '%new-build%' then 'CPC_NB'\n",
    "        else 'OTHER_SOURCE' \n",
    "    end AS type,\n",
    "    concat(source, '/' , medium) as source_medium,\n",
    "    count(distinct dimension1) as uniqs,\n",
    "    count(distinct tr.dimension4) as sessions\n",
    "FROM pv LEFT JOIN tr using(dimension4)\n",
    "GROUP BY week, region, type, source_medium\n",
    "HAVING week IS NOT NULL and week = {week}\n",
    "ORDER BY week\n",
    "''', with_column_types = True)\n",
    "\n",
    "\n",
    "col = []\n",
    "for i in columns:\n",
    "    col.append(i[0])\n",
    "traf = pd.DataFrame(re,columns=col)\n",
    "\n",
    "\n",
    "traf = traf.dropna(0)\n",
    "\n",
    "traf_check = traf.values.tolist()\n",
    "# traf_check = [traf.columns.values.tolist()] + traf.values.tolist()\n",
    "sh = gc.open(\"Classified.Reports 2023\")\n",
    "wk = sh.worksheet('source')\n",
    "# wk.update(\"N1\", traf_check)\n",
    "wk.append_rows(traf_check, table_range=\"N2\")"
   ]
  },
  {
   "cell_type": "markdown",
   "id": "c2865886",
   "metadata": {},
   "source": [
    "# Кол-во расхлопов и юзеры, сделавшие расхлоп без директа и с лендингом УП"
   ]
  },
  {
   "cell_type": "code",
   "execution_count": null,
   "id": "09021826",
   "metadata": {
    "ExecuteTime": {
     "end_time": "2023-01-30T09:37:45.444325Z",
     "start_time": "2023-01-30T09:37:43.275008Z"
    }
   },
   "outputs": [],
   "source": [
    "re, columns = client.execute('''\n",
    "WITH \n",
    "tr as (\n",
    "    SELECT dimension1, dimension4\n",
    "    FROM ga.UA_TRAFIC_BIG \n",
    "    WHERE date >='2023-01-02' AND landingpagepath LIKE '%nedvizhimost%' AND source <> '(direct)' AND dimension1 IS NOT NULL\n",
    "    GROUP BY dimension1, dimension4\n",
    "),\n",
    "     \n",
    "ev AS (\n",
    "    SELECT\n",
    "        dateHourMinute, \n",
    "        SUM(totalEvents) as totalEvents, \n",
    "        dimension4\n",
    "    FROM ga.RAW_EVENTS\n",
    "    WHERE match(eventlabel, '(ClCardSellPhoneClickTop|ClSerpSellSecondVasPhoneClick|ClCardSellPhoneClickBottom|ClCardSellSecondVasPhoneClickAll|ClSerpCardSellNewDevPaidPhoneClick)')\n",
    "        AND eventlabel NOT LIKE '%ClCardSellPhoneClickAll%' AND date >= '2023-01-02' \n",
    "    GROUP BY dateHourMinute, dimension4\n",
    ")\n",
    "\n",
    "SELECT\n",
    "    toISOWeek(dateHourMinute) as isoweek, \n",
    "    SUM(totalEvents) AS totalEvents, \n",
    "    COUNT(DISTINCT dimension1) AS dimension1\n",
    "FROM tr \n",
    "INNER JOIN ev ON tr.dimension4 = ev.dimension4\n",
    "GROUP BY isoweek\n",
    "ORDER BY isoweek\n",
    "''', with_column_types = True)\n",
    "\n",
    "\n",
    "col = []\n",
    "for i in columns:\n",
    "    col.append(i[0])\n",
    "traf = pd.DataFrame(re,columns=col)\n",
    "\n",
    "traf_check = [traf.columns.values.tolist()] + traf.values.tolist()\n",
    "\n",
    "sh = gc.open(\"Classified.Reports 2023\")\n",
    "wk = sh.worksheet('source')\n",
    "wk.update(\"U1\", traf_check)"
   ]
  },
  {
   "cell_type": "markdown",
   "id": "856fce2b",
   "metadata": {},
   "source": [
    "# Расхлопы всех источников и по рекламе (по регионам)"
   ]
  },
  {
   "cell_type": "code",
   "execution_count": null,
   "id": "1bc800f6",
   "metadata": {
    "ExecuteTime": {
     "end_time": "2023-01-30T09:37:53.434828Z",
     "start_time": "2023-01-30T09:37:49.875584Z"
    }
   },
   "outputs": [],
   "source": [
    "re, columns = client.execute('''\n",
    "SELECT\n",
    "    week,\n",
    "    IFNULL(SUM(CASE WHEN city = 'MSK' AND cpc_type = 'УП реклама' THEN uniqueEvents END), 0) as msk_cpc,\n",
    "    IFNULL(SUM(CASE WHEN city = 'MSK'  THEN uniqueEvents END), 0) as msk_all,\n",
    "    IFNULL(SUM(CASE WHEN city = 'SPB' AND cpc_type = 'УП реклама' THEN uniqueEvents END), 0) as spb_cpc,\n",
    "    IFNULL(SUM(CASE WHEN city = 'SPB'  THEN uniqueEvents END), 0) as spb_all,\n",
    "    IFNULL(SUM(CASE WHEN city = '0' AND cpc_type = 'УП реклама' THEN uniqueEvents END), 0) as reg_cpc,\n",
    "    IFNULL(SUM(CASE WHEN city = '0'  THEN uniqueEvents END), 0) as reg_all\n",
    "FROM messnerav.CL_MAIN_REPORT_PHONE_CLICK\n",
    "WHERE year = 2023\n",
    "GROUP BY week\n",
    "''', with_column_types = True)\n",
    "\n",
    "\n",
    "col = []\n",
    "for i in columns:\n",
    "    col.append(i[0])\n",
    "traf = pd.DataFrame(re,columns=col)\n",
    "\n",
    "traf_check = [traf.columns.values.tolist()] + traf.values.tolist()\n",
    "sh = gc.open(\"Classified.Reports 2023\")\n",
    "wk = sh.worksheet('source')\n",
    "wk.update(\"Y1\", traf_check)"
   ]
  },
  {
   "cell_type": "markdown",
   "id": "020a1165",
   "metadata": {},
   "source": [
    "# Переходы в ИБ и пользователи"
   ]
  },
  {
   "cell_type": "code",
   "execution_count": null,
   "id": "49650951",
   "metadata": {
    "ExecuteTime": {
     "end_time": "2023-01-30T09:38:03.482526Z",
     "start_time": "2023-01-30T09:38:01.407215Z"
    }
   },
   "outputs": [],
   "source": [
    "re, columns = client.execute('''\n",
    "WITH \n",
    "tr as (\n",
    "    SELECT date, dimension4, dimension1, landingpagepath\n",
    "    FROM ga.UA_TRAFIC_BIG \n",
    "    WHERE date >='2023-01-02' AND landingpagepath LIKE '%nedvizhimost%' AND dimension1 IS NOT NULL\n",
    "    GROUP BY  date, dimension4, dimension1, landingpagepath\n",
    "),\n",
    "     \n",
    "ev AS (\n",
    "    SELECT eventlabel, dimension4, pagepath, SUM(totalEvents) as totalEvents\n",
    "    FROM ga.RAW_EVENTS\n",
    "    WHERE match(eventlabel, '(ClCardSellMortgageClick|ClSerpSellMortgageClick|^claim_completed)') AND date >= '2023-01-02'\n",
    "    GROUP BY eventlabel, dimension4, pagepath\n",
    ")\n",
    "\n",
    "SELECT\n",
    "    toISOWeek(date) as isoweek,\n",
    "        CASE\n",
    "        WHEN pagepath LIKE '%mosk%' THEN 'MSK'\n",
    "        WHEN pagepath LIKE '%sankt-%' OR pagepath LIKE '%lening%' THEN 'SPB'\n",
    "        ELSE 'REG'\n",
    "    END as city_pp,\n",
    "    IFNULL(SUM(CASE WHEN (eventlabel = 'ClCardSellMortgageClick' OR eventlabel = 'ClSerpSellMortgageClick') AND landingpagepath NOT LIKE '%ohio8.vchecks.me%' THEN totalEvents END), 0) as mortgage,\n",
    "    COUNT(DISTINCT CASE WHEN (eventlabel = 'ClCardSellMortgageClick' OR eventlabel = 'ClSerpSellMortgageClick') THEN dimension1 END) AS dimension1,\n",
    "    CASE\n",
    "        WHEN landingpagepath LIKE '%mosk%' THEN 'MSK'\n",
    "        WHEN landingpagepath LIKE '%sankt-%' OR landingpagepath LIKE '%lening%' THEN 'SPB'\n",
    "        ELSE 'REG'\n",
    "    END as city_lp,\n",
    "    IFNULL(SUM(CASE WHEN eventlabel LIKE '%claim_completed%' THEN totalEvents END), 0) as claim_comp\n",
    "FROM tr inner JOIN ev ON tr.dimension4=ev.dimension4\n",
    "GROUP BY isoweek, city_lp, city_pp\n",
    "ORDER BY isoweek\n",
    "''', with_column_types = True)\n",
    "\n",
    "\n",
    "col = []\n",
    "for i in columns:\n",
    "    col.append(i[0])\n",
    "traf = pd.DataFrame(re,columns=col)\n",
    "\n",
    "traf['mortgage'] = traf['mortgage'].astype(int)\n",
    "traf['dimension1'] = traf['dimension1'].astype(int)\n",
    "traf['claim_comp'] = traf['claim_comp'].astype(int)\n",
    "\n",
    "traf_check = [traf.columns.values.tolist()] + traf.values.tolist()\n",
    "\n",
    "sh = gc.open(\"Classified.Reports 2023\")\n",
    "wk = sh.worksheet('source')\n",
    "wk.update(\"AG1\", traf_check)"
   ]
  },
  {
   "cell_type": "markdown",
   "id": "cc62bb84",
   "metadata": {},
   "source": [
    "# Регистрации Все и с лендингом УП по ролям FL|P_AGENT"
   ]
  },
  {
   "cell_type": "code",
   "execution_count": null,
   "id": "278ddc01",
   "metadata": {
    "ExecuteTime": {
     "end_time": "2023-01-30T09:38:13.876742Z",
     "start_time": "2023-01-30T09:38:11.650467Z"
    }
   },
   "outputs": [],
   "source": [
    "re, columns = client.execute('''\n",
    "WITH \n",
    "tr AS(\n",
    "    SELECT dimension4, landingpagepath\n",
    "    FROM  ga.UA_TRAFIC_BIG WHERE date >='2023-01-02' AND landingpagepath NOT LIKE '%ohio8.vchecks.me%' AND dimension1 IS NOT NULL\n",
    "    GROUP BY  dimension4, landingpagepath\n",
    "),\n",
    "ev AS(\n",
    "    SELECT date, eventlabel, dimension4, SUM(totalEvents) as totalEvents\n",
    "    FROM ga.RAW_EVENTS\n",
    "    WHERE match(eventlabel, '(NewRegSuccess)') AND match(eventCategory, '(FL|P_AGENT)') AND pagepath NOT LIKE '%link-registration%'\n",
    "        AND date >= '2023-01-02'\n",
    "    GROUP BY eventlabel, dimension4, date\n",
    ")\n",
    "SELECT\n",
    "    toISOWeek(date) as isoweek,\n",
    "    IFNULL(SUM(totalEvents), 0) as regis_all,\n",
    "    IFNULL(SUM(CASE WHEN landingpagepath LIKE '%nedvizhimost%' THEN totalEvents END), 0) as regis_up\n",
    "FROM tr inner JOIN ev ON tr.dimension4 = ev.dimension4\n",
    "GROUP BY isoweek\n",
    "ORDER BY isoweek''', with_column_types = True)\n",
    "\n",
    "\n",
    "col = []\n",
    "for i in columns:\n",
    "    col.append(i[0])\n",
    "traf = pd.DataFrame(re,columns=col)\n",
    "\n",
    "traf_check = [traf.columns.values.tolist()] + traf.values.tolist()\n",
    "sh = gc.open(\"Classified.Reports 2023\")\n",
    "wk = sh.worksheet('source')\n",
    "wk.update(\"AN1\", traf_check)"
   ]
  },
  {
   "cell_type": "markdown",
   "id": "f8170cfd",
   "metadata": {},
   "source": [
    "# Регистрации из ПГ (бэк)"
   ]
  },
  {
   "cell_type": "code",
   "execution_count": null,
   "id": "26912216",
   "metadata": {
    "ExecuteTime": {
     "end_time": "2023-01-30T09:38:22.252758Z",
     "start_time": "2023-01-30T09:38:20.895420Z"
    }
   },
   "outputs": [],
   "source": [
    "re, columns = client.execute('''\n",
    "select\n",
    "    toISOWeek(date) as isoweek,\n",
    "    count(distinct user_code) as regs\n",
    "from pg.PG_REGS\n",
    "where role IN ('CLIENT', 'PROFESSIONAL') and date >= '2023-01-02'\n",
    "    --and report_type= 'Зарегистрированный пользователь (установлен пароль)' НЕ нужно - исх.табла только по этим юзерам\n",
    "GROUP BY isoweek\n",
    "order by isoweek\n",
    "''', with_column_types = True)\n",
    "\n",
    "\n",
    "col = []\n",
    "for i in columns:\n",
    "    col.append(i[0])\n",
    "traf = pd.DataFrame(re,columns=col)\n",
    "\n",
    "traf_check = [traf.columns.values.tolist()] + traf.values.tolist()\n",
    "sh = gc.open(\"Classified.Reports 2023\")\n",
    "wk = sh.worksheet('source')\n",
    "wk.update(\"AR1\", traf_check)"
   ]
  },
  {
   "cell_type": "markdown",
   "id": "b94577a5",
   "metadata": {},
   "source": [
    "# MAU для планерки"
   ]
  },
  {
   "cell_type": "code",
   "execution_count": null,
   "id": "22421b30",
   "metadata": {
    "ExecuteTime": {
     "end_time": "2023-01-30T09:38:51.194446Z",
     "start_time": "2023-01-30T09:38:49.653478Z"
    }
   },
   "outputs": [],
   "source": [
    "re, columns = client.execute('''\n",
    "SELECT\n",
    "    month(date) as month,\n",
    "    count(distinct dimension1) as uniqs\n",
    "FROM ga.UA_TRAFIC_BIG\n",
    "where landingpagepath like '%nedvizhimost%' AND medium <> '(none)' AND toISOYear(date) = 2023\n",
    "group by month\n",
    "order by month\n",
    "''', with_column_types = True)\n",
    "\n",
    "\n",
    "col = []\n",
    "for i in columns:\n",
    "    col.append(i[0])\n",
    "traf = pd.DataFrame(re,columns=col)\n",
    "\n",
    "traf_check = [traf.columns.values.tolist()] + traf.values.tolist()\n",
    "sh = gc.open(\"Classified.Reports 2023\")\n",
    "wk = sh.worksheet('source')\n",
    "wk.update(\"AU1\", traf_check)"
   ]
  },
  {
   "cell_type": "markdown",
   "id": "e10d51d1",
   "metadata": {},
   "source": [
    "# Расхлопы по VAS"
   ]
  },
  {
   "cell_type": "code",
   "execution_count": null,
   "id": "c38500da",
   "metadata": {
    "ExecuteTime": {
     "end_time": "2023-01-30T09:39:04.765304Z",
     "start_time": "2023-01-30T09:39:03.004981Z"
    }
   },
   "outputs": [],
   "source": [
    "re, columns = client.execute('''\n",
    "SELECT\n",
    "    toISOWeek(date) as isoweek, \n",
    "    CASE\n",
    "        WHEN pagepath LIKE '%mosk%' THEN 'MSK'\n",
    "        WHEN pagepath LIKE '%sankt-%' OR pagepath LIKE '%lening%' THEN 'SPB'\n",
    "        ELSE 'REG'\n",
    "    END as city, \n",
    "    SUM(totalEvents) as tot, \n",
    "    SUM(uniqueEvents) as un\n",
    "FROM ga.RAW_EVENTS \n",
    "WHERE date >= '2023-01-02' AND match(eventlabel, 'ClCardSellSecondVasPhoneClickAll|ClSerpSellSecondVasPhoneClick')\n",
    "GROUP BY isoweek, city\n",
    "ORDER BY isoweek, city\n",
    "''', with_column_types = True)\n",
    "\n",
    "\n",
    "col = []\n",
    "for i in columns:\n",
    "    col.append(i[0])\n",
    "traf = pd.DataFrame(re,columns=col)\n",
    "\n",
    "traf_check = [traf.columns.values.tolist()] + traf.values.tolist()\n",
    "sh = gc.open(\"Classified.Reports 2023\")\n",
    "wk = sh.worksheet('source')\n",
    "wk.update(\"AX1\", traf_check)"
   ]
  },
  {
   "cell_type": "markdown",
   "id": "a757467f",
   "metadata": {},
   "source": [
    "# VAS по дням"
   ]
  },
  {
   "cell_type": "code",
   "execution_count": null,
   "id": "d2c9d7ad",
   "metadata": {
    "ExecuteTime": {
     "end_time": "2023-01-30T09:40:12.356655Z",
     "start_time": "2023-01-30T09:40:10.485832Z"
    }
   },
   "outputs": [],
   "source": [
    "SCOPES = ['https://www.googleapis.com/auth/analytics.readonly',\n",
    "             'https://spreadsheets.google.com/feeds',\n",
    "         'https://www.googleapis.com/auth/drive']\n",
    "credentials = ServiceAccountCredentials.from_json_keyfile_name('m2-main-cd9ed0b4e222.json', SCOPES)\n",
    "gc = gspread.authorize(credentials)\n",
    "\n",
    "sh = gc.open('VAS - Партнёры')\n",
    "wk = sh.worksheet('Ответы на форму (1)')\n",
    "list_of_dicts = wk.get_all_records()\n",
    "source = pd.DataFrame(list_of_dicts)"
   ]
  },
  {
   "cell_type": "code",
   "execution_count": null,
   "id": "2c938d36",
   "metadata": {
    "ExecuteTime": {
     "end_time": "2023-01-30T10:02:52.822181Z",
     "start_time": "2023-01-30T10:02:52.733789Z"
    }
   },
   "outputs": [],
   "source": [
    "df = source[['Отметка времени','Название агентства','Регион','Сумма договора','Дата старта','Выберите тип размещение на площадке']].copy()\n",
    "df = df.rename(columns = {\n",
    " 'Отметка времени':'timestamp_mark',\n",
    " 'Название агентства':'agency', \n",
    " 'Регион':'region',\n",
    " 'Сумма договора': 'deal_amount',\n",
    " 'Дата старта': 'start_date',\n",
    " 'Выберите тип размещение на площадке': 'placement_type',\n",
    "}).fillna(0)\n",
    "df['start_date'] = pd.to_datetime(df['start_date'], format='%d.%m.%Y')\n",
    "df['deal_amount'] = df['deal_amount'].astype(int)\n",
    "df['timestamp_mark'] = pd.to_datetime(df['timestamp_mark'])\n",
    "df = df[df['placement_type'].isin(['Первичное размещение', 'Пролонгация текущего договора'])]\n",
    "df = df.reset_index(drop=True)\n",
    "df = df[df['timestamp_mark']!='']\n",
    "df['deal_amount'] = df['deal_amount'] / 30\n",
    "df['days'] = 30\n",
    "\n",
    "df = df[['agency','region','start_date','deal_amount','days']].copy()"
   ]
  },
  {
   "cell_type": "code",
   "execution_count": null,
   "id": "905197af",
   "metadata": {
    "ExecuteTime": {
     "end_time": "2023-01-30T09:40:17.011163Z",
     "start_time": "2023-01-30T09:40:15.665210Z"
    }
   },
   "outputs": [],
   "source": [
    "df['start_date'] = pd.to_datetime(df['start_date'], format='%d.%m.%Y')\n",
    "\n",
    "agencies = df['agency'].unique()\n",
    "\n",
    "for a in agencies:\n",
    "\n",
    "    single_agency = df.query(\"agency == @a\").sort_values('start_date')\n",
    "\n",
    "    for index, row in single_agency.iterrows():\n",
    "        _row = df.loc[[index]] # пересчитываем из оригинального df на случай если уже изменили это значение на предыдущих итерациях цикла\n",
    "        start = _row['start_date'].iloc[0]\n",
    "        in_a_deal = start + dt.timedelta(days = 30)\n",
    "        overlaps = single_agency.query(\n",
    "            \"`start_date` < @in_a_deal and `start_date` > @start\")\n",
    "\n",
    "        if (len(overlaps)):\n",
    "\n",
    "            for i, ov in overlaps.iterrows():\n",
    "\n",
    "                print('Setting row {} to {}'.format(i, in_a_deal))\n",
    "                df.at[i,'start_date'] = in_a_deal"
   ]
  },
  {
   "cell_type": "code",
   "execution_count": null,
   "id": "adcad54e",
   "metadata": {
    "ExecuteTime": {
     "end_time": "2023-01-30T09:40:19.700068Z",
     "start_time": "2023-01-30T09:40:19.614327Z"
    }
   },
   "outputs": [],
   "source": [
    "df['days'] = df['days'].astype(int)\n",
    "cols = list(df.columns)+['date_spend']\n",
    "res = []\n",
    "for i in df.itertuples():    \n",
    "    for date_diff in range(i.days):\n",
    "        standart_row = list(i[1:])\n",
    "        date_spend = i.start_date + dt.timedelta(days=date_diff)\n",
    "        standart_row.append(date_spend)\n",
    "        res.append(standart_row)\n",
    "        \n",
    "common = pd.DataFrame(res, columns = cols)"
   ]
  },
  {
   "cell_type": "code",
   "execution_count": null,
   "id": "18068e41",
   "metadata": {
    "ExecuteTime": {
     "end_time": "2023-01-30T09:40:21.072361Z",
     "start_time": "2023-01-30T09:40:21.038850Z"
    }
   },
   "outputs": [],
   "source": [
    "common = common.drop(df.columns[[2, 4]], axis=1).copy()\n",
    "common['date_spend'] = common['date_spend'].astype(str)"
   ]
  },
  {
   "cell_type": "code",
   "execution_count": null,
   "id": "5a1eeb06",
   "metadata": {
    "ExecuteTime": {
     "end_time": "2023-01-30T09:40:22.107598Z",
     "start_time": "2023-01-30T09:40:22.088588Z"
    }
   },
   "outputs": [],
   "source": [
    "common['deal_amount'] = common['deal_amount'].astype(float)\n",
    "common = common[common['date_spend'] >= '2022-06-06']\n",
    "common['agency'] = common['agency'].astype(str)\n",
    "common['region'] = common['region'].astype(str)\n",
    "common['date_spend'] = common['date_spend'].astype(str)"
   ]
  },
  {
   "cell_type": "code",
   "execution_count": null,
   "id": "44d3e991",
   "metadata": {
    "ExecuteTime": {
     "end_time": "2023-01-30T09:40:33.557617Z",
     "start_time": "2023-01-30T09:40:31.289938Z"
    }
   },
   "outputs": [],
   "source": [
    "traf_check =  [common.columns.values.tolist()] + common.values.tolist()\n",
    "sh = gc.open(\"Classified.Reports 2023\")\n",
    "wk = sh.worksheet('source')\n",
    "wk.update(\"BC1\", traf_check)"
   ]
  },
  {
   "cell_type": "code",
   "execution_count": null,
   "id": "eff59782",
   "metadata": {
    "ExecuteTime": {
     "end_time": "2023-01-30T10:02:57.046954Z",
     "start_time": "2023-01-30T10:02:57.028008Z"
    }
   },
   "outputs": [],
   "source": [
    "df.sort_values('start_date')"
   ]
  },
  {
   "cell_type": "markdown",
   "id": "a2b4b00c",
   "metadata": {},
   "source": [
    "# Трафик по девайсам"
   ]
  },
  {
   "cell_type": "code",
   "execution_count": null,
   "id": "b8758a29",
   "metadata": {
    "ExecuteTime": {
     "end_time": "2023-01-30T09:42:14.454785Z",
     "start_time": "2023-01-30T09:42:12.470733Z"
    }
   },
   "outputs": [],
   "source": [
    "re, columns = client.execute('''\n",
    "select\n",
    "    toISOWeek(dateHourMinute) as week,\n",
    "    deviceCategory,\n",
    "    count(distinct dimension1) as users\n",
    "from ga.UA_TRAFIC_BIG\n",
    "where landingpagepath LIKE '%nedviz%' AND toISOYear(date) = 2023 AND toISOWeek(date) >= 1\n",
    "GROUP by week, deviceCategory\n",
    "ORDER by week, deviceCategory\n",
    "\n",
    "''', with_column_types = True)\n",
    "\n",
    "\n",
    "col = []\n",
    "for i in columns:\n",
    "    col.append(i[0])\n",
    "traf = pd.DataFrame(re,columns=col)\n",
    "\n",
    "traf_check = [traf.columns.values.tolist()] + traf.values.tolist()\n",
    "sh = gc.open(\"Classified.Reports 2023\")\n",
    "wk = sh.worksheet('source')\n",
    "wk.update(\"BJ1\", traf_check)"
   ]
  },
  {
   "cell_type": "markdown",
   "id": "f0642596",
   "metadata": {},
   "source": [
    "# Регистрация ЧМАКОВ (WEB) (дозапись)"
   ]
  },
  {
   "cell_type": "code",
   "execution_count": null,
   "id": "25742139",
   "metadata": {
    "ExecuteTime": {
     "end_time": "2023-01-30T09:41:58.914536Z",
     "start_time": "2023-01-30T09:41:47.693685Z"
    }
   },
   "outputs": [],
   "source": [
    "re, columns = client.execute('''\n",
    "WITH\n",
    "week(today()) - 1 as week1,\n",
    "\n",
    "A AS (\n",
    "    WITH\n",
    "    page_view AS (\n",
    "        SELECT dimension4, pagepath, MIN(dateHourMinute) AS page_fst_date\n",
    "        FROM ga.PAGE_VIEWS\n",
    "        WHERE match(pagepath, '(/nedvizhimost/)') AND dateHourMinute >= '2023-01-02'\n",
    "        GROUP BY dimension4, pagepath\n",
    "    ),\n",
    "    sessions AS (\n",
    "        SELECT  dimension1, dimension4\n",
    "        FROM ga.UA_TRAFIC_BIG\n",
    "        WHERE date >= '2023-01-02'\n",
    "        GROUP BY dimension1, dimension4\n",
    "    ),\n",
    "    user AS (\n",
    "        SELECT dimension1, dimension2\n",
    "        FROM ga.USERS_DT\n",
    "        WHERE date >= '2023-01-02'\n",
    "        GROUP BY dimension1, dimension2\n",
    "    ),\n",
    "    pg_reg AS (\n",
    "        SELECT user_code, registration_msk_ts as date\n",
    "        FROM pg.PG_REGS\n",
    "        WHERE role LIKE 'PROFESSIONAL' AND date >= '2023-01-02'\n",
    "    )\n",
    "\n",
    "    SELECT user_code\n",
    "    FROM page_view\n",
    "    LEFT JOIN sessions ON page_view.dimension4=sessions.dimension4\n",
    "    LEFT JOIN user ON user.dimension1 = sessions.dimension1\n",
    "    LEFT JOIN pg_reg ON  dimension2 = user_code\n",
    "    WHERE page_fst_date < date AND toISOWeek(date) = week1 AND toISOYear(date) = 2023\n",
    "    GROUP BY user_code\n",
    "),\n",
    "\n",
    "B AS (\n",
    "    WITH\n",
    "    page_view AS (\n",
    "        SELECT dimension4, pagepath, MIN(dateHourMinute) AS page_fst_date\n",
    "        FROM ga.PAGE_VIEWS\n",
    "        WHERE match(pagepath, '(/rieltoram/placement)') AND dateHourMinute >= '2023-01-02'\n",
    "        GROUP BY dimension4, pagepath\n",
    "    ),\n",
    "    sessions AS (\n",
    "        SELECT  dimension1, dimension4\n",
    "        FROM ga.UA_TRAFIC_BIG\n",
    "        WHERE date >= '2023-01-02'\n",
    "        GROUP BY dimension1, dimension4\n",
    "    ),\n",
    "    user AS (\n",
    "        SELECT dimension1, dimension2\n",
    "        FROM ga.USERS_DT\n",
    "        WHERE date >= '2023-01-02'\n",
    "        GROUP BY dimension1, dimension2\n",
    "    ),\n",
    "    pg_reg AS (\n",
    "        SELECT user_code,  registration_msk_ts as date\n",
    "        FROM pg.PG_REGS\n",
    "        WHERE role LIKE 'PROFESSIONAL' AND date >= '2023-01-02'\n",
    "    )\n",
    "\n",
    "    SELECT user_code\n",
    "    FROM page_view\n",
    "    LEFT JOIN sessions ON page_view.dimension4=sessions.dimension4\n",
    "    LEFT JOIN user ON user.dimension1 = sessions.dimension1\n",
    "    LEFT JOIN pg_reg ON  dimension2 = user_code\n",
    "    WHERE page_fst_date < date AND toISOWeek(date) = week1 AND toISOYear(date) = 2023\n",
    "    GROUP BY user_code\n",
    ")\n",
    "\n",
    "SELECT\n",
    "    week1 as week,\n",
    "    count(distinct A.user_code) as nedv,\n",
    "    count(distinct B.user_code) as riel,\n",
    "    (SELECT COUNT(distinct user_code) as delta FROM A JOIN B USING(user_code)) as delta\n",
    "FROM A\n",
    "FULL JOIN B USING(user_code)\n",
    "''', with_column_types = True)\n",
    "\n",
    "col = []\n",
    "for i in columns:\n",
    "    col.append(i[0])\n",
    "traf = pd.DataFrame(re,columns=col)\n",
    "\n",
    "traf_check = traf.values.tolist()\n",
    "# traf_check = [traf.columns.values.tolist()] + traf.values.tolist()\n",
    "sh = gc.open(\"Classified.Reports 2023\")\n",
    "wk = sh.worksheet('source')\n",
    "# wk.update(\"BN1\", traf_check)\n",
    "wk.append_rows(traf_check, table_range=\"BN2\")"
   ]
  },
  {
   "cell_type": "markdown",
   "id": "1f0f19b2",
   "metadata": {},
   "source": [
    "# Звонки по Новостройкам в УП (даш в отчете)"
   ]
  },
  {
   "cell_type": "code",
   "execution_count": null,
   "id": "4857a703",
   "metadata": {
    "ExecuteTime": {
     "end_time": "2023-01-30T09:42:54.827678Z",
     "start_time": "2023-01-30T09:42:48.296955Z"
    }
   },
   "outputs": [],
   "source": [
    "re, columns = client.execute('''\n",
    "with \n",
    "SESSIONS AS (\n",
    "    select date, dimension1, dimension4\n",
    "    from ga.UA_TRAFIC_BIG\n",
    "    where landingpagepath LIKE '%nedvizhimost%' AND toISOYear(date) >= 2023\n",
    "    group by date, dimension1, dimension4\n",
    "),\n",
    "     \n",
    "NB_CLOPS AS(\n",
    "    select dimension4\n",
    "    from ga.RAW_EVENTS\n",
    "    where match(eventlabel, 'NbCardPhoneNumberClick[0-9]|NbSnippetPhoneNumberClick|NbCardPhoneСallRequestSendClick|NbCardPhoneNumberClick')\n",
    "        and toISOYear(date) >= 2023\n",
    "    group by dimension4\n",
    "),\n",
    "\n",
    "CALL_GAINS AS (\n",
    "    select\n",
    "        session_id,\n",
    "        SUM(calls) AS calls,\n",
    "        SUM(matched_calls) AS matched_calls\n",
    "    from mart.CALLS_FULL_ATRIBS\n",
    "    where toISOYear(first_call_dt) >= 2023\n",
    "    group by session_id\n",
    ")\n",
    "\n",
    "SELECT\n",
    "    toISOWeek(date) AS week,\n",
    "    COUNT(DISTINCT dimension1) AS user_id,\n",
    "    SUM(CALL_GAINS.calls) AS calls,\n",
    "    SUM(CALL_GAINS.matched_calls) AS matched_calls \n",
    "FROM (\n",
    "    SELECT\n",
    "        date,\n",
    "        dimension1,\n",
    "        CALL_GAINS.calls,\n",
    "        CALL_GAINS.matched_calls\n",
    "    FROM SESSIONS\n",
    "    JOIN NB_CLOPS ON SESSIONS.dimension4 = NB_CLOPS.dimension4\n",
    "    JOIN CALL_GAINS ON session_id = NB_CLOPS.dimension4\n",
    "    ) \n",
    "WHERE CALL_GAINS.calls > 0\n",
    "GROUP BY week\n",
    "''', with_column_types = True)\n",
    "\n",
    "col = []\n",
    "for i in columns:\n",
    "    col.append(i[0])\n",
    "traf = pd.DataFrame(re,columns=col)\n",
    "\n",
    "traf_check = [traf.columns.values.tolist()] + traf.values.tolist()\n",
    "sh = gc.open(\"Classified.Reports 2023\")\n",
    "wk = sh.worksheet('source')\n",
    "wk.update(\"BT1\", traf_check)"
   ]
  }
 ],
 "metadata": {
  "hide_input": false,
  "kernelspec": {
   "display_name": "Python 3 (ipykernel)",
   "language": "python",
   "name": "python3"
  },
  "language_info": {
   "codemirror_mode": {
    "name": "ipython",
    "version": 3
   },
   "file_extension": ".py",
   "mimetype": "text/x-python",
   "name": "python",
   "nbconvert_exporter": "python",
   "pygments_lexer": "ipython3",
   "version": "3.9.13"
  },
  "varInspector": {
   "cols": {
    "lenName": 16,
    "lenType": 16,
    "lenVar": 40
   },
   "kernels_config": {
    "python": {
     "delete_cmd_postfix": "",
     "delete_cmd_prefix": "del ",
     "library": "var_list.py",
     "varRefreshCmd": "print(var_dic_list())"
    },
    "r": {
     "delete_cmd_postfix": ") ",
     "delete_cmd_prefix": "rm(",
     "library": "var_list.r",
     "varRefreshCmd": "cat(var_dic_list()) "
    }
   },
   "types_to_exclude": [
    "module",
    "function",
    "builtin_function_or_method",
    "instance",
    "_Feature"
   ],
   "window_display": false
  }
 },
 "nbformat": 4,
 "nbformat_minor": 5
}
