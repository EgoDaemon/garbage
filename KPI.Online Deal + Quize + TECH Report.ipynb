{
 "cells": [
  {
   "cell_type": "code",
   "execution_count": null,
   "id": "8725c34f",
   "metadata": {
    "ExecuteTime": {
     "end_time": "2023-01-23T14:46:06.241717Z",
     "start_time": "2023-01-23T14:46:04.599316Z"
    }
   },
   "outputs": [],
   "source": [
    "import json\n",
    "import requests\n",
    "import pandas as pd\n",
    "import datetime\n",
    "from sqlalchemy import create_engine\n",
    "from pandas import DataFrame as df\n",
    "import numpy as np\n",
    "from oauth2client.service_account import ServiceAccountCredentials\n",
    "import gspread\n",
    "from clickhouse_key import ch_key\n",
    "from clickhouse_driver import Client"
   ]
  },
  {
   "cell_type": "code",
   "execution_count": null,
   "id": "7791e22c",
   "metadata": {
    "ExecuteTime": {
     "end_time": "2023-01-23T14:46:07.176066Z",
     "start_time": "2023-01-23T14:46:07.167178Z"
    }
   },
   "outputs": [],
   "source": [
    "pd.set_option('display.max_columns', None)"
   ]
  },
  {
   "cell_type": "markdown",
   "id": "88f8d563",
   "metadata": {},
   "source": [
    "# ONLINE DEAL"
   ]
  },
  {
   "cell_type": "code",
   "execution_count": null,
   "id": "96a02ab4",
   "metadata": {
    "ExecuteTime": {
     "end_time": "2023-01-23T14:46:08.720910Z",
     "start_time": "2023-01-23T14:46:08.708172Z"
    }
   },
   "outputs": [],
   "source": [
    "client = Client(ch_key['db_host'],\n",
    "               user=ch_key['db_user'],\n",
    "               password=ch_key['db_password'],\n",
    "               verify=False,\n",
    "               database=ch_key['db_name'], settings={'use_numpy': True})"
   ]
  },
  {
   "cell_type": "code",
   "execution_count": null,
   "id": "edd80e51",
   "metadata": {
    "ExecuteTime": {
     "end_time": "2023-01-23T14:46:13.889184Z",
     "start_time": "2023-01-23T14:46:13.880440Z"
    }
   },
   "outputs": [],
   "source": [
    "def df(result, columns):\n",
    "    col = []\n",
    "    for i in columns:\n",
    "        col.append(i[0])\n",
    "        df = pd.DataFrame(result,columns=col)\n",
    "    return df    \n",
    "        \n",
    "def date(date):\n",
    "    date  = (datetime.datetime.strptime(date['date'][0],\"%Y-%m-%d\").date()+datetime.timedelta(days=1)) \n",
    "    return date"
   ]
  },
  {
   "cell_type": "code",
   "execution_count": null,
   "id": "335e3e78",
   "metadata": {
    "ExecuteTime": {
     "end_time": "2023-01-23T14:46:19.967339Z",
     "start_time": "2023-01-23T14:46:19.850840Z"
    }
   },
   "outputs": [],
   "source": [
    "result, columns = client.execute('''SELECT CAST(MAX(DATE(date)) as String) as date \n",
    "FROM messnerav.ONLINE_DEAL_DASH_BANNERS ''', with_column_types = True)\n",
    "data = df(result, columns)\n",
    "start = date(data)\n",
    "start"
   ]
  },
  {
   "cell_type": "code",
   "execution_count": null,
   "id": "978d2c4a",
   "metadata": {
    "ExecuteTime": {
     "end_time": "2023-01-23T14:46:25.126042Z",
     "start_time": "2023-01-23T14:46:23.433694Z"
    }
   },
   "outputs": [],
   "source": [
    "re, columns = client.execute(f'''\n",
    "\n",
    "WITH A AS (\n",
    "SELECT\n",
    "date\n",
    ", COUNT(DISTINCT CASE WHEN match(pagepath, '.*nedvizhimost/prod.*kvart.*') THEN dimension4 END) AS cards\n",
    ", COUNT(DISTINCT CASE WHEN match(pagepath, '.*nedvizhimost/prod.*kvart.*') THEN dimension1 END) AS cards_us\n",
    ", COUNT(DISTINCT CASE WHEN match(pagepath, '.*offer-placement/create/.*') THEN dimension4 END) AS placement\n",
    ", COUNT(DISTINCT CASE WHEN match(pagepath, '.*offer-placement/create/.*') THEN dimension1 END) AS placement_us\n",
    "FROM ga.PAGE_VIEWS  left join (\n",
    "select dimension1, dimension4\n",
    "from ga.UA_TRAFIC_BIG WHERE date >= '{start}') CR USING(dimension4)\n",
    "WHERE\n",
    "(match(pagepath, '.*nedvizhimost/prod.*kvart.*') OR match(pagepath, '.*offer-placement/create/.*'))\n",
    "AND date >= '{start}'\n",
    "GROUP BY date),\n",
    "\n",
    "B AS (\n",
    "SELECT\n",
    "  date,\n",
    "  coalesce(SUM(CASE WHEN (match(eventlabel, 'UPBANNER.*advert.*') AND eventAction LIKE 'online_deal%')  THEN uniqueEvents END),0) as lk_banners\n",
    ", coalesce(SUM(CASE WHEN (match(eventlabel, 'UPBANNER.*sell.*more') AND eventAction LIKE 'online_deal|icons') THEN uniqueEvents END), 0) as card_banner\n",
    "FROM ga.RAW_EVENTS\n",
    "WHERE (match(eventlabel, 'UPBANNER.*advert.*') AND eventAction LIKE 'online_deal%')\n",
    "OR\n",
    "(match(eventlabel, 'UPBANNER.*sell.*more') AND eventAction LIKE 'online_deal|icons') AND  date >= '{start}'\n",
    "GROUP BY date order by date desc)\n",
    "\n",
    "select A.date as date, cards, cards_us, placement,placement_us, lk_banners, card_banner\n",
    "from A left join\n",
    "B on A.date=B.date\n",
    "WHERE A.date >= '{start}' ORDER BY date DESC''', with_column_types = True)"
   ]
  },
  {
   "cell_type": "code",
   "execution_count": null,
   "id": "6af5acf0",
   "metadata": {
    "ExecuteTime": {
     "end_time": "2023-01-23T14:46:26.873036Z",
     "start_time": "2023-01-23T14:46:26.851099Z"
    }
   },
   "outputs": [],
   "source": [
    "col = []\n",
    "for i in columns:\n",
    "    col.append(i[0])\n",
    "res = pd.DataFrame(re,columns=col)\n",
    "res.head(5)"
   ]
  },
  {
   "cell_type": "code",
   "execution_count": null,
   "id": "1a7ec935",
   "metadata": {
    "ExecuteTime": {
     "end_time": "2023-01-23T14:46:30.169166Z",
     "start_time": "2023-01-23T14:46:30.141239Z"
    }
   },
   "outputs": [],
   "source": [
    "res['date'] = pd.to_datetime(res['date'], format='%Y-%m-%d')\n",
    "res.info()"
   ]
  },
  {
   "cell_type": "code",
   "execution_count": null,
   "id": "215f3ba9",
   "metadata": {},
   "outputs": [],
   "source": [
    "# client.execute(\n",
    "# \"CREATE TABLE messnerav.ONLINE_DEAL_DASH_BANNERS(date Date, cards Nullable(Int), cards_us Nullable(Int), placement Nullable(Int), placement_us Nullable(Int), lk_banners Nullable(Int), card_banner Nullable(Int)) ENGINE = MergeTree() ORDER BY (date)\"\n",
    "# )"
   ]
  },
  {
   "cell_type": "code",
   "execution_count": null,
   "id": "1c8440e0",
   "metadata": {
    "ExecuteTime": {
     "end_time": "2023-01-23T14:46:43.712984Z",
     "start_time": "2023-01-23T14:46:43.643922Z"
    }
   },
   "outputs": [],
   "source": [
    "client.insert_dataframe(\"INSERT INTO messnerav.ONLINE_DEAL_DASH_BANNERS VALUES\", res) # Всегда должно быть <=7"
   ]
  },
  {
   "cell_type": "markdown",
   "id": "d99593e2",
   "metadata": {},
   "source": [
    "# QUIZE"
   ]
  },
  {
   "cell_type": "code",
   "execution_count": null,
   "id": "f3bdd8f4",
   "metadata": {
    "ExecuteTime": {
     "end_time": "2023-01-23T14:46:46.606884Z",
     "start_time": "2023-01-23T14:46:46.552082Z"
    }
   },
   "outputs": [],
   "source": [
    "client.execute(f''' ALTER TABLE messnerav.QUIZ_FULL_REPORT DELETE WHERE date = (select max(date) from messnerav.QUIZ_FULL_REPORT) ''')"
   ]
  },
  {
   "cell_type": "code",
   "execution_count": null,
   "id": "616cd8c8",
   "metadata": {
    "ExecuteTime": {
     "end_time": "2023-01-23T14:46:49.674014Z",
     "start_time": "2023-01-23T14:46:48.564695Z"
    }
   },
   "outputs": [],
   "source": [
    "re, columns = client.execute(f'''\n",
    "\n",
    "WITH\n",
    "    (SELECT max(date) + 1\n",
    "     FROM messnerav.QUIZ_FULL_REPORT) AS DATE1,\n",
    "    yesterday() AS DATE2,\n",
    "    SESSIONS AS\n",
    "        (SELECT CAST(dateHourMinute, 'DATE')                                              AS date,\n",
    "                dimension1,\n",
    "                dimension4,\n",
    "                lower(multiIf(extract(landingpagepath, 'quiz_source=(\"[^\"]+\"|\\\\w+)') = '', 'Inhouse',\n",
    "                              extract(landingpagepath, 'quiz_source=(\"[^\"]+\"|\\\\w+)')))    AS partner,\n",
    "                multiIf(landingpagepath LIKE '%novostroyki/quiz%', 'Квиз', landingpagepath LIKE '%novostroyki%',\n",
    "                        'Новостройки', 'Другие страницы')                                 AS NB_LP,\n",
    "                multiIf((source LIKE '%vk%') AND (medium = 'referral'), 'vk.com', source) AS source,\n",
    "                medium,\n",
    "                campaign,\n",
    "                deviceCategory\n",
    "         FROM ga.UA_TRAFIC_BIG\n",
    "         WHERE (date >= DATE1)\n",
    "           AND (date <= DATE2)\n",
    "         GROUP BY date,\n",
    "                  dimension1,\n",
    "                  dimension4,\n",
    "                  partner,\n",
    "                  NB_LP,\n",
    "                  source,\n",
    "                  medium,\n",
    "                  campaign,\n",
    "                  deviceCategory),\n",
    "    EVENTS AS\n",
    "        (SELECT dimension4,\n",
    "                eventCategory                              AS quiz_id,\n",
    "                sum(multiIf(eventlabel = '1', 1, 0))       AS quize_started,\n",
    "                sum(multiIf(eventlabel = 'success', 1, 0)) AS quize_succes\n",
    "         FROM ga.RAW_EVENTS\n",
    "         WHERE (eventAction = 'Step')\n",
    "           AND ((date >= DATE1) AND (date <= DATE2))\n",
    "         GROUP BY dimension4,\n",
    "                  quiz_id),\n",
    "    SALES AS\n",
    "        (SELECT Date          AS CALL_DATE,\n",
    "                caller,\n",
    "                SOLDNESS      AS sale_state,\n",
    "                max(SOLD_SUM) AS sold_sum,\n",
    "                1             AS first\n",
    "         FROM mart.NB_CALLS\n",
    "         WHERE (SOLDNESS = 'Продан')\n",
    "           AND ((Date >= DATE1) AND (Date <= DATE2))\n",
    "         GROUP BY CALL_DATE,\n",
    "                  caller,\n",
    "                  sale_state),\n",
    "    MAIL_LEADS AS\n",
    "        (SELECT CAST(date, 'DATE')                                       AS LEAD_DATE,\n",
    "                ID,\n",
    "                PHONE,\n",
    "                utm_source,\n",
    "                utm_medium,\n",
    "                utm_campaign,\n",
    "                row_number() OVER (PARTITION BY PHONE ORDER BY date ASC) AS first\n",
    "         FROM external.MAIL_DATA\n",
    "         WHERE (CAST(date, 'DATE') >= DATE1)\n",
    "           AND (CAST(date, 'DATE') <= DATE2)\n",
    "         GROUP BY date,\n",
    "                  ID,\n",
    "                  PHONE,\n",
    "                  utm_source,\n",
    "                  utm_medium,\n",
    "                  utm_campaign),\n",
    "    LEEDS AS\n",
    "        (SELECT LEAD_DATE,\n",
    "                ID,\n",
    "                utm_source,\n",
    "                utm_medium,\n",
    "                utm_campaign\n",
    "         FROM MAIL_LEADS\n",
    "                  LEFT JOIN SALES ON (PHONE = caller) AND (MAIL_LEADS.first = SALES.first)\n",
    "         WHERE MAIL_LEADS.LEAD_DATE <= SALES.CALL_DATE\n",
    "         GROUP BY LEAD_DATE,\n",
    "                  ID,\n",
    "                  utm_source,\n",
    "                  utm_medium,\n",
    "                  utm_campaign)\n",
    "SELECT ifNull(SESSIONS.date, LEEDS.LEAD_DATE)                          AS date,\n",
    "       coalesce(SESSIONS.source, LEEDS.utm_source, 'Неопределено')     AS utm_source,\n",
    "       coalesce(SESSIONS.medium, LEEDS.utm_medium, 'Неопределено')     AS utm_medium,\n",
    "       coalesce(SESSIONS.campaign, LEEDS.utm_campaign, 'Неопределено') AS utm_campaign,\n",
    "       coalesce(SESSIONS.deviceCategory, 'Неопределено')               AS deviceCategory,\n",
    "       COUNTDistinct(dimension1)                                       AS user_ids,\n",
    "       sum(quize_started)                                              AS quize_started_c,\n",
    "       sum(quize_succes)                                               AS quize_finished\n",
    "FROM SESSIONS\n",
    "         LEFT JOIN EVENTS ON SESSIONS.dimension4 = EVENTS.dimension4\n",
    "         LEFT JOIN LEEDS ON quiz_id = ID\n",
    "GROUP BY date,\n",
    "         utm_source,\n",
    "         utm_medium,\n",
    "         utm_campaign,\n",
    "         deviceCategory\n",
    "ORDER BY date ASC ''', with_column_types = True)"
   ]
  },
  {
   "cell_type": "code",
   "execution_count": null,
   "id": "aa9be7b8",
   "metadata": {
    "ExecuteTime": {
     "end_time": "2023-01-23T14:46:58.019431Z",
     "start_time": "2023-01-23T14:46:57.960591Z"
    }
   },
   "outputs": [],
   "source": [
    "col = []\n",
    "for i in columns:\n",
    "    col.append(i[0])\n",
    "res = pd.DataFrame(re,columns=col)\n",
    "res.tail(5)"
   ]
  },
  {
   "cell_type": "code",
   "execution_count": null,
   "id": "96242868",
   "metadata": {
    "ExecuteTime": {
     "end_time": "2023-01-23T14:46:59.879937Z",
     "start_time": "2023-01-23T14:46:59.606351Z"
    }
   },
   "outputs": [],
   "source": [
    "client.insert_dataframe(\"INSERT INTO messnerav.QUIZ_FULL_REPORT VALUES\", res)"
   ]
  },
  {
   "cell_type": "markdown",
   "id": "44cd5093",
   "metadata": {},
   "source": [
    "# AUTH\\REG TECH REP"
   ]
  },
  {
   "cell_type": "code",
   "execution_count": null,
   "id": "2bfeda21",
   "metadata": {
    "ExecuteTime": {
     "end_time": "2023-01-23T14:47:16.196197Z",
     "start_time": "2023-01-23T14:47:16.139628Z"
    }
   },
   "outputs": [],
   "source": [
    "client.execute(f''' ALTER TABLE messnerav.REG_AUTH_TECH_REPORT DELETE WHERE date = (select max(date) from messnerav.REG_AUTH_TECH_REPORT) ''')"
   ]
  },
  {
   "cell_type": "code",
   "execution_count": null,
   "id": "82209976",
   "metadata": {
    "ExecuteTime": {
     "end_time": "2023-01-23T14:47:19.629413Z",
     "start_time": "2023-01-23T14:47:17.320334Z"
    }
   },
   "outputs": [],
   "source": [
    "re, columns = client.execute(f'''\n",
    "\n",
    "SELECT * EXCEPT (Q1, Q2)\n",
    "FROM (\n",
    "         SELECT row_number() OVER (ORDER BY date ASC, b.eventAction ASC) AS Q1,\n",
    "                *\n",
    "         FROM (\n",
    "                  WITH a AS\n",
    "                           (SELECT CAST(dateHourMinute, 'DATE') AS date,\n",
    "                                   eventAction,\n",
    "                                   ifNull(sum(uniqueEvents), 0) AS u1,\n",
    "                                   dimension4\n",
    "                            FROM ga.RAW_EVENTS\n",
    "                            WHERE match(eventlabel, '(NewAuthPhoneChecked)')\n",
    "                              AND ((date >= (SELECT max(date) + 1\n",
    "                                             FROM messnerav.REG_AUTH_TECH_REPORT)) AND (date <= yesterday()))\n",
    "                              AND match(eventAction, '(FL|P_AGENT|PARTNER)')\n",
    "                              AND match(pagepath,\n",
    "                                        '(/login/$|/login$|offer-placement|/login/client$|/login/professional$|/login/partner$)')\n",
    "                            GROUP BY date,\n",
    "                                     eventAction,\n",
    "                                     dimension4\n",
    "                            ORDER BY date ASC,\n",
    "                                     eventAction ASC),\n",
    "                       b AS\n",
    "                           (SELECT CAST(dateHourMinute, 'DATE') AS date,\n",
    "                                   eventAction,\n",
    "                                   ifNull(sum(uniqueEvents), 0) AS u2,\n",
    "                                   dimension4\n",
    "                            FROM ga.RAW_EVENTS\n",
    "                            WHERE match(eventlabel, '(NewAuthSuccessful)')\n",
    "                              AND ((date >= (SELECT max(date) + 1\n",
    "                                             FROM messnerav.REG_AUTH_TECH_REPORT)) AND (date <= yesterday()))\n",
    "                              AND match(eventAction, '(FL|P_AGENT|PARTNER)')\n",
    "                              AND match(pagepath,\n",
    "                                        '(/login/$|/login$|offer-placement|/login/client$|/login/professional$|/login/partner$|/reset-password)')\n",
    "                            GROUP BY date,\n",
    "                                     eventAction,\n",
    "                                     dimension4\n",
    "                            ORDER BY date ASC,\n",
    "                                     eventAction ASC)\n",
    "                  SELECT b.date                                                                                      AS date,\n",
    "                         b.eventAction,\n",
    "                         sum(multiIf(match(b.eventAction, '(FL|P_AGENT)'), u1, 0))                                   AS auth_phone_check,\n",
    "                         COUNTDistinct(multiIf(match(b.eventAction, '(FL|P_AGENT)') AND (a.dimension4 = b.dimension4),\n",
    "                                               a.dimension4, match(b.eventAction, '(PARTNER)'), b.dimension4,\n",
    "                                               NULL))                                                                AS auth_success\n",
    "                  FROM a\n",
    "                           RIGHT JOIN b ON a.dimension4 = b.dimension4\n",
    "                  WHERE b.eventAction IS NOT NULL\n",
    "                  GROUP BY date,\n",
    "                           b.eventAction\n",
    "                  ORDER BY date ASC,\n",
    "                           b.eventAction ASC\n",
    "                  )\n",
    "         ) AS t1\n",
    "         FULL OUTER JOIN\n",
    "     (\n",
    "         SELECT row_number() OVER (ORDER BY date ASC, eventAction ASC) AS Q2,\n",
    "                * EXCEPT (date, eventAction)\n",
    "         FROM (\n",
    "                  SELECT CAST(dateHourMinute, 'DATE')  AS date,\n",
    "                         eventAction,\n",
    "                         sum(multiIf((eventlabel = 'NewReg_AuthRoleChoose') AND\n",
    "                                     match(eventAction, '(FL|P_AGENT|PARTNER)') AND match(pagepath,\n",
    "                                                                                          '(/login/$|/login$|offer-placement|/login/client$|/login/professional$|/login/partner$)'),\n",
    "                                     uniqueEvents, 0)) AS role_choose,\n",
    "                         sum(multiIf((eventlabel = 'NewRegPhoneChecked') AND match(eventAction, '(FL|P_AGENT)') AND\n",
    "                                     match(pagepath,\n",
    "                                           '(/login/$|/login$|offer-placement|/login/client$|/login/professional$|/login/partner$)'),\n",
    "                                     uniqueEvents, 0)) AS phone_checked,\n",
    "                         sum(multiIf((eventlabel = 'NewRegSmsInput') AND match(eventAction, '(FL|P_AGENT)') AND\n",
    "                                     match(pagepath,\n",
    "                                           '(/login/$|/login$|offer-placement|/login/client$|/login/professional$|/login/partner$)'),\n",
    "                                     uniqueEvents, 0)) AS sms_input,\n",
    "                         sum(multiIf((eventlabel = 'NewRegSuccess') AND match(eventAction, '(FL|P_AGENT)') AND\n",
    "                                     match(pagepath,\n",
    "                                           '(/login/$|/login$|offer-placement|/login/client$|/login/professional$|/login/partner$)'),\n",
    "                                     uniqueEvents, 0)) AS reg_success,\n",
    "                         sum(multiIf((eventlabel = 'NewRegPassSetup') AND match(eventAction, '(FL|P_AGENT)') AND\n",
    "                                     match(pagepath,\n",
    "                                           '(/login/$|/login$|offer-placement|/login/client$|/login/professional$|/login/partner$)'),\n",
    "                                     uniqueEvents, 0)) AS pass_setup,\n",
    "                         sum(multiIf((eventlabel = 'NewRegEmailInput') AND match(eventAction, '(FL|P_AGENT)') AND\n",
    "                                     match(pagepath,\n",
    "                                           '(/login/$|/login$|offer-placement|/login/client$|/login/professional$|/login/partner$)'),\n",
    "                                     uniqueEvents, 0)) AS email_input,\n",
    "                         sum(multiIf((eventlabel = 'NewRegSuccessful') AND match(eventAction, '(FL|P_AGENT)') AND\n",
    "                                     match(pagepath,\n",
    "                                           '(/login/$|/login$|offer-placement|/login/client$|/login/professional$|/login/partner$)'),\n",
    "                                     uniqueEvents, 0)) AS reg_success_full,\n",
    "                         sum(multiIf((eventlabel = 'NewRegRequestStart') AND match(eventAction, '(PARTNER)') AND\n",
    "                                     match(pagepath,\n",
    "                                           '(/login/$|/login$|offer-placement|/login/client$|/login/professional$|/login/partner$)'),\n",
    "                                     uniqueEvents, 0)) AS reg_partner_req_start,\n",
    "                         sum(multiIf((eventlabel = 'NewRegRequestSend') AND match(eventAction, '(PARTNER)') AND\n",
    "                                     match(pagepath,\n",
    "                                           '(/login/$|/login$|offer-placement|/login/client$|/login/professional$|/login/partner$)'),\n",
    "                                     uniqueEvents, 0)) AS reg_partner_req_send,\n",
    "                         sum(multiIf((eventlabel = 'NewReg_AuthForgotPass') AND\n",
    "                                     match(eventAction, '(FL|P_AGENT|PARTNER)') AND match(pagepath,\n",
    "                                                                                          '(/login/$|/login$|offer-placement|/login/client$|/login/professional$|/login/partner$)'),\n",
    "                                     uniqueEvents, 0)) AS REG_AUTH_er_ALL_roles_forgot_pass_no_phone_email_first,\n",
    "                         sum(multiIf((eventlabel = 'NewRegEmailWrongCode') AND match(eventAction, '(FL|P_AGENT)') AND\n",
    "                                     match(pagepath,\n",
    "                                           '(/login/$|/login$|offer-placement|/login/client$|/login/professional$|/login/partner$|/reset-password)'),\n",
    "                                     uniqueEvents, 0)) AS er_fl_chmak_email_wrong_code,\n",
    "                         sum(multiIf((eventlabel = 'NewRegPhoneChange') AND match(eventAction, '(FL|P_AGENT)') AND\n",
    "                                     match(pagepath,\n",
    "                                           '(/login/$|/login$|offer-placement|/login/client$|/login/professional$|/login/partner$|/reset-password)'),\n",
    "                                     uniqueEvents, 0)) AS er_fl_chmak_cnahge_phone,\n",
    "                         sum(multiIf((eventlabel = 'NewRegEmailChange') AND match(eventAction, '(FL|P_AGENT)') AND\n",
    "                                     match(pagepath,\n",
    "                                           '(/login/$|/login$|offer-placement|/login/client$|/login/professional$|/login/partner$|/reset-password)'),\n",
    "                                     uniqueEvents, 0)) AS er_fl_chmak_cnahge_email,\n",
    "                         sum(multiIf((eventlabel = 'NewRegSmsWrongCode') AND match(eventAction, '(FL|P_AGENT)') AND\n",
    "                                     match(pagepath,\n",
    "                                           '(/login/$|/login$|offer-placement|/login/client$|/login/professional$|/login/partner$|/reset-password)'),\n",
    "                                     uniqueEvents, 0)) AS er_fl_chmak_sms_wrong_code,\n",
    "                         sum(multiIf((eventlabel = 'NewAuthEmailInput') AND match(eventAction, '(FL|P_AGENT)') AND\n",
    "                                     match(pagepath,\n",
    "                                           '(/login/$|/login$|offer-placement|/login/client$|/login/professional$|/login/partner$)'),\n",
    "                                     uniqueEvents, 0)) AS email_setup_for_auth_old_users,\n",
    "                         sum(multiIf((eventlabel = 'NewAuthPassWrong') AND match(eventAction, '(FL|P_AGENT)') AND\n",
    "                                     match(pagepath,\n",
    "                                           '(/login/$|/login$|offer-placement|/login/client$|/login/professional$|/login/partner$|/reset-password)'),\n",
    "                                     uniqueEvents, 0)) AS auth_wrong_pass,\n",
    "                         sum(multiIf((eventlabel = 'NewAuthEmailWrongCode') AND\n",
    "                                     match(eventAction, '(FL|P_AGENT|PARTNER)') AND match(pagepath,\n",
    "                                                                                          '(/login/$|/login$|offer-placement|/login/client$|/login/professional$|/login/partner$|/reset-password)'),\n",
    "                                     uniqueEvents, 0)) AS auth_email_wrong_code,\n",
    "                         sum(multiIf((eventlabel = 'NewAuthEmailChange') AND match(eventAction, '(FL|P_AGENT)') AND\n",
    "                                     match(pagepath,\n",
    "                                           '(/login/$|/login$|offer-placement|/login/client$|/login/professional$|/login/partner$|/reset-password)'),\n",
    "                                     uniqueEvents, 0)) AS auth_email_change,\n",
    "                         sum(multiIf((eventlabel = 'NewAuthForgotPass') AND match(eventAction, '(FL|P_AGENT)') AND\n",
    "                                     match(pagepath,\n",
    "                                           '(/login/$|/login$|offer-placement|/login/client$|/login/professional$|/login/partner$|/reset-password)'),\n",
    "                                     uniqueEvents, 0)) AS auth_forgot_pass,\n",
    "                         sum(multiIf((eventlabel = 'NewAuthPhoneInputRecovery') AND\n",
    "                                     match(eventAction, '(FL|P_AGENT)') AND match(pagepath,\n",
    "                                                                                  '(/login/$|/login$|offer-placement|/login/client$|/login/professional$|/login/partner$|/reset-password)'),\n",
    "                                     uniqueEvents, 0)) AS auth_chmak_fl_phone_recov_input,\n",
    "                         sum(multiIf((eventlabel = 'NewAuthSmsInputRecovery') AND match(eventAction, '(FL|P_AGENT)') AND\n",
    "                                     match(pagepath,\n",
    "                                           '(/login/$|/login$|offer-placement|/login/client$|/login/professional$|/login/partner$|/reset-password)'),\n",
    "                                     uniqueEvents, 0)) AS auth_chmak_fl_phone_recov_sms_input,\n",
    "                         sum(multiIf((eventlabel = 'NewAuthEmailInputRecovery') AND match(eventAction, '(PARTNER)') AND\n",
    "                                     match(pagepath,\n",
    "                                           '(/login/$|/login$|offer-placement|/login/client$|/login/professional$|/login/partner$|/reset-password)'),\n",
    "                                     uniqueEvents, 0)) AS auth_partner_email_recov_input,\n",
    "                         sum(multiIf((eventlabel = 'NewAuthWrongDbPhone') AND match(eventAction, '(FL|P_AGENT)') AND\n",
    "                                     match(pagepath,\n",
    "                                           '(/login/$|/login$|offer-placement|/login/client$|/login/professional$|/login/partner$|/reset-password)'),\n",
    "                                     uniqueEvents, 0)) AS auth_chmak_fl_phone_db_wrong,\n",
    "                         sum(multiIf((eventlabel = 'NewAuthWrongDbEmail') AND match(eventAction, '(PARTNER)') AND\n",
    "                                     match(pagepath,\n",
    "                                           '(/login/$|/login$|offer-placement|/login/client$|/login/professional$|/login/partner$|/reset-password)'),\n",
    "                                     uniqueEvents, 0)) AS auth_partner_email_db_wrong,\n",
    "                         sum(multiIf((eventlabel = 'NewAuthPassNewSetup') AND\n",
    "                                     match(eventAction, '(FL|P_AGENT|PARTNER)') AND match(pagepath,\n",
    "                                                                                          '(/login/$|/login$|offer-placement|/login/client$|/login/professional$|/login/partner$|/reset-password)'),\n",
    "                                     uniqueEvents, 0)) AS auth_new_pass_setup\n",
    "                  FROM ga.RAW_EVENTS\n",
    "                  WHERE match(eventlabel,\n",
    "                              '(NewAuthCodeInputRecivery|NewAuthEmailChange|NewAuthEmailInput|NewAuthEmailInputRecovery|NewAuthEmailWrongCode|NewAuthForgotPass|NewAuthPassNewSetup|NewAuthPassWrong|NewAuthPhoneChecked|NewAuthPhoneInputRecovery|NewAuthSmsInputRecovery|NewAuthSuccessful|NewAuthWrongDbEmail|NewAuthWrongDbPhone|NewRegEmailChange|NewRegEmailWrongCode|NewRegPhoneChange|NewRegSmsWrongCode|NewRegWrongSmsPhoneChange|NewReg_AuthRoleChoose|NewRegPhoneChecked|NewRegSmsInput|NewRegPassSetup|NewRegSuccess|NewRegEmailInput|NewRegSuccessful|NewRegRequestSend|NewRegRequestStart|NewReg_AuthForgotPass)')\n",
    "                    AND ((date >= (SELECT max(date) + 1\n",
    "                                   FROM messnerav.REG_AUTH_TECH_REPORT)) AND (date <= yesterday()))\n",
    "                    AND match(eventAction, '(FL|P_AGENT|PARTNER)')\n",
    "                    AND match(pagepath,\n",
    "                              '(/login/$|/login$|offer-placement|/login/client$|/login/professional$|/login/partner$|/reset-password)')\n",
    "                  GROUP BY date,\n",
    "                           eventAction\n",
    "                  ORDER BY date ASC,\n",
    "                           eventAction ASC\n",
    "                  )\n",
    "         ) AS t2 ON t1.Q1 = t2.Q2 ''', with_column_types = True)"
   ]
  },
  {
   "cell_type": "code",
   "execution_count": null,
   "id": "8d41daf3",
   "metadata": {
    "ExecuteTime": {
     "end_time": "2023-01-23T14:47:21.137509Z",
     "start_time": "2023-01-23T14:47:21.118229Z"
    }
   },
   "outputs": [],
   "source": [
    "col = []\n",
    "for i in columns:\n",
    "    col.append(i[0])\n",
    "res = pd.DataFrame(re,columns=col)\n",
    "res.head(5)"
   ]
  },
  {
   "cell_type": "code",
   "execution_count": null,
   "id": "351b7626",
   "metadata": {
    "ExecuteTime": {
     "end_time": "2023-01-23T14:47:22.913950Z",
     "start_time": "2023-01-23T14:47:22.841520Z"
    }
   },
   "outputs": [],
   "source": [
    "client.insert_dataframe(\"INSERT INTO messnerav.REG_AUTH_TECH_REPORT VALUES\", res)"
   ]
  }
 ],
 "metadata": {
  "hide_input": false,
  "kernelspec": {
   "display_name": "Python 3 (ipykernel)",
   "language": "python",
   "name": "python3"
  },
  "language_info": {
   "codemirror_mode": {
    "name": "ipython",
    "version": 3
   },
   "file_extension": ".py",
   "mimetype": "text/x-python",
   "name": "python",
   "nbconvert_exporter": "python",
   "pygments_lexer": "ipython3",
   "version": "3.9.13"
  },
  "varInspector": {
   "cols": {
    "lenName": 16,
    "lenType": 16,
    "lenVar": 40
   },
   "kernels_config": {
    "python": {
     "delete_cmd_postfix": "",
     "delete_cmd_prefix": "del ",
     "library": "var_list.py",
     "varRefreshCmd": "print(var_dic_list())"
    },
    "r": {
     "delete_cmd_postfix": ") ",
     "delete_cmd_prefix": "rm(",
     "library": "var_list.r",
     "varRefreshCmd": "cat(var_dic_list()) "
    }
   },
   "types_to_exclude": [
    "module",
    "function",
    "builtin_function_or_method",
    "instance",
    "_Feature"
   ],
   "window_display": false
  }
 },
 "nbformat": 4,
 "nbformat_minor": 5
}
